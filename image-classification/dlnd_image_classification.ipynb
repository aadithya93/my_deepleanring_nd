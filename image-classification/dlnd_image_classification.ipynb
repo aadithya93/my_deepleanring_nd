{
 "cells": [
  {
   "cell_type": "markdown",
   "metadata": {
    "collapsed": true
   },
   "source": [
    "# Image Classification\n",
    "In this project, you'll classify images from the [CIFAR-10 dataset](https://www.cs.toronto.edu/~kriz/cifar.html).  The dataset consists of airplanes, dogs, cats, and other objects. You'll preprocess the images, then train a convolutional neural network on all the samples. The images need to be normalized and the labels need to be one-hot encoded.  You'll get to apply what you learned and build a convolutional, max pooling, dropout, and fully connected layers.  At the end, you'll get to see your neural network's predictions on the sample images.\n",
    "## Get the Data\n",
    "Run the following cell to download the [CIFAR-10 dataset for python](https://www.cs.toronto.edu/~kriz/cifar-10-python.tar.gz)."
   ]
  },
  {
   "cell_type": "code",
   "execution_count": 1,
   "metadata": {},
   "outputs": [
    {
     "name": "stdout",
     "output_type": "stream",
     "text": [
      "All files found!\n"
     ]
    }
   ],
   "source": [
    "\"\"\"\n",
    "DON'T MODIFY ANYTHING IN THIS CELL THAT IS BELOW THIS LINE\n",
    "\"\"\"\n",
    "from urllib.request import urlretrieve\n",
    "from os.path import isfile, isdir\n",
    "from tqdm import tqdm\n",
    "import problem_unittests as tests\n",
    "import tarfile\n",
    "\n",
    "cifar10_dataset_folder_path = 'cifar-10-batches-py'\n",
    "\n",
    "# Use Floyd's cifar-10 dataset if present\n",
    "floyd_cifar10_location = '/cifar/cifar-10-python.tar.gz'\n",
    "if isfile(floyd_cifar10_location):\n",
    "    tar_gz_path = floyd_cifar10_location\n",
    "else:\n",
    "    tar_gz_path = 'cifar-10-python.tar.gz'\n",
    "\n",
    "class DLProgress(tqdm):\n",
    "    last_block = 0\n",
    "\n",
    "    def hook(self, block_num=1, block_size=1, total_size=None):\n",
    "        self.total = total_size\n",
    "        self.update((block_num - self.last_block) * block_size)\n",
    "        self.last_block = block_num\n",
    "\n",
    "if not isfile(tar_gz_path):\n",
    "    with DLProgress(unit='B', unit_scale=True, miniters=1, desc='CIFAR-10 Dataset') as pbar:\n",
    "        urlretrieve(\n",
    "            'https://www.cs.toronto.edu/~kriz/cifar-10-python.tar.gz',\n",
    "            tar_gz_path,\n",
    "            pbar.hook)\n",
    "\n",
    "if not isdir(cifar10_dataset_folder_path):\n",
    "    with tarfile.open(tar_gz_path) as tar:\n",
    "        tar.extractall()\n",
    "        tar.close()\n",
    "\n",
    "\n",
    "tests.test_folder_path(cifar10_dataset_folder_path)"
   ]
  },
  {
   "cell_type": "markdown",
   "metadata": {},
   "source": [
    "## Explore the Data\n",
    "The dataset is broken into batches to prevent your machine from running out of memory.  The CIFAR-10 dataset consists of 5 batches, named `data_batch_1`, `data_batch_2`, etc.. Each batch contains the labels and images that are one of the following:\n",
    "* airplane\n",
    "* automobile\n",
    "* bird\n",
    "* cat\n",
    "* deer\n",
    "* dog\n",
    "* frog\n",
    "* horse\n",
    "* ship\n",
    "* truck\n",
    "\n",
    "Understanding a dataset is part of making predictions on the data.  Play around with the code cell below by changing the `batch_id` and `sample_id`. The `batch_id` is the id for a batch (1-5). The `sample_id` is the id for a image and label pair in the batch.\n",
    "\n",
    "Ask yourself \"What are all possible labels?\", \"What is the range of values for the image data?\", \"Are the labels in order or random?\".  Answers to questions like these will help you preprocess the data and end up with better predictions."
   ]
  },
  {
   "cell_type": "code",
   "execution_count": 2,
   "metadata": {},
   "outputs": [
    {
     "name": "stdout",
     "output_type": "stream",
     "text": [
      "\n",
      "Stats of batch 1:\n",
      "Samples: 10000\n",
      "Label Counts: {0: 1005, 1: 974, 2: 1032, 3: 1016, 4: 999, 5: 937, 6: 1030, 7: 1001, 8: 1025, 9: 981}\n",
      "First 20 Labels: [6, 9, 9, 4, 1, 1, 2, 7, 8, 3, 4, 7, 7, 2, 9, 9, 9, 3, 2, 6]\n",
      "\n",
      "Example of Image 0:\n",
      "Image - Min Value: 0 Max Value: 255\n",
      "Image - Shape: (32, 32, 3)\n",
      "Label - Label Id: 6 Name: frog\n"
     ]
    },
    {
     "data": {
      "image/png": "[encoded data removed]",
      "text/plain": [
       "<matplotlib.figure.Figure at 0x7fe529964eb8>"
      ]
     },
     "metadata": {
      "image/png": {
       "height": 250,
       "width": 253
      }
     },
     "output_type": "display_data"
    }
   ],
   "source": [
    "%matplotlib inline\n",
    "%config InlineBackend.figure_format = 'retina'\n",
    "\n",
    "import helper\n",
    "import numpy as np\n",
    "\n",
    "# Explore the dataset\n",
    "batch_id = 1\n",
    "sample_id = 0\n",
    "helper.display_stats(cifar10_dataset_folder_path, batch_id, sample_id)"
   ]
  },
  {
   "cell_type": "markdown",
   "metadata": {},
   "source": [
    "## Implement Preprocess Functions\n",
    "### Normalize\n",
    "In the cell below, implement the `normalize` function to take in image data, `x`, and return it as a normalized Numpy array. The values should be in the range of 0 to 1, inclusive.  The return object should be the same shape as `x`."
   ]
  },
  {
   "cell_type": "code",
   "execution_count": 3,
   "metadata": {},
   "outputs": [
    {
     "name": "stdout",
     "output_type": "stream",
     "text": [
      "Tests Passed\n"
     ]
    }
   ],
   "source": [
    "def normalize(x):\n",
    "    \"\"\"\n",
    "    Normalize a list of sample image data in the range of 0 to 1\n",
    "    : x: List of image data.  The image shape is (32, 32, 3)\n",
    "    : return: Numpy array of normalize data\n",
    "    \"\"\"\n",
    "    # TODO: Implement Function\n",
    "    min_range = 0\n",
    "    max_range = 1\n",
    "    x_min = x.min()\n",
    "    x_max = x.max()\n",
    "    norm_x = np.true_divide((x - x_min) * (max_range - min_range), x_max - x_min) + min_range\n",
    "    return norm_x\n",
    "\n",
    "\n",
    "\"\"\"\n",
    "DON'T MODIFY ANYTHING IN THIS CELL THAT IS BELOW THIS LINE\n",
    "\"\"\"\n",
    "tests.test_normalize(normalize)"
   ]
  },
  {
   "cell_type": "markdown",
   "metadata": {},
   "source": [
    "### One-hot encode\n",
    "Just like the previous code cell, you'll be implementing a function for preprocessing.  This time, you'll implement the `one_hot_encode` function. The input, `x`, are a list of labels.  Implement the function to return the list of labels as One-Hot encoded Numpy array.  The possible values for labels are 0 to 9. The one-hot encoding function should return the same encoding for each value between each call to `one_hot_encode`.  Make sure to save the map of encodings outside the function.\n",
    "\n",
    "Hint: Don't reinvent the wheel."
   ]
  },
  {
   "cell_type": "code",
   "execution_count": 4,
   "metadata": {},
   "outputs": [
    {
     "name": "stdout",
     "output_type": "stream",
     "text": [
      "Tests Passed\n"
     ]
    }
   ],
   "source": [
    "def one_hot_encode(x):\n",
    "    \"\"\"\n",
    "    One hot encode a list of sample labels. Return a one-hot encoded vector for each label.\n",
    "    : x: List of sample Labels\n",
    "    : return: Numpy array of one-hot encoded labels\n",
    "    \"\"\"\n",
    "    # TODO: Implement Function\n",
    "    num_labels = len(x)\n",
    "    num_classes = 10\n",
    "    one_hot_x = np.zeros((num_labels, num_classes))\n",
    "    for i, label in enumerate(x):\n",
    "        try:\n",
    "            one_hot_x[i][label] = 1\n",
    "        except IndexError:\n",
    "            raise ValueError('Label value out of range')\n",
    "    return one_hot_x\n",
    "\n",
    "\"\"\"\n",
    "DON'T MODIFY ANYTHING IN THIS CELL THAT IS BELOW THIS LINE\n",
    "\"\"\"\n",
    "tests.test_one_hot_encode(one_hot_encode)"
   ]
  },
  {
   "cell_type": "markdown",
   "metadata": {},
   "source": [
    "### Randomize Data\n",
    "As you saw from exploring the data above, the order of the samples are randomized.  It doesn't hurt to randomize it again, but you don't need to for this dataset."
   ]
  },
  {
   "cell_type": "markdown",
   "metadata": {},
   "source": [
    "## Preprocess all the data and save it\n",
    "Running the code cell below will preprocess all the CIFAR-10 data and save it to file. The code below also uses 10% of the training data for validation."
   ]
  },
  {
   "cell_type": "code",
   "execution_count": 5,
   "metadata": {},
   "outputs": [],
   "source": [
    "\"\"\"\n",
    "DON'T MODIFY ANYTHING IN THIS CELL\n",
    "\"\"\"\n",
    "# Preprocess Training, Validation, and Testing Data\n",
    "helper.preprocess_and_save_data(cifar10_dataset_folder_path, normalize, one_hot_encode)"
   ]
  },
  {
   "cell_type": "markdown",
   "metadata": {},
   "source": [
    "# Check Point\n",
    "This is your first checkpoint.  If you ever decide to come back to this notebook or have to restart the notebook, you can start from here.  The preprocessed data has been saved to disk."
   ]
  },
  {
   "cell_type": "code",
   "execution_count": 6,
   "metadata": {},
   "outputs": [],
   "source": [
    "\"\"\"\n",
    "DON'T MODIFY ANYTHING IN THIS CELL\n",
    "\"\"\"\n",
    "import pickle\n",
    "import problem_unittests as tests\n",
    "import helper\n",
    "\n",
    "# Load the Preprocessed Validation data\n",
    "valid_features, valid_labels = pickle.load(open('preprocess_validation.p', mode='rb'))"
   ]
  },
  {
   "cell_type": "markdown",
   "metadata": {},
   "source": [
    "## Build the network\n",
    "For the neural network, you'll build each layer into a function.  Most of the code you've seen has been outside of functions. To test your code more thoroughly, we require that you put each layer in a function.  This allows us to give you better feedback and test for simple mistakes using our unittests before you submit your project.\n",
    "\n",
    ">**Note:** If you're finding it hard to dedicate enough time for this course each week, we've provided a small shortcut to this part of the project. In the next couple of problems, you'll have the option to use classes from the [TensorFlow Layers](https://www.tensorflow.org/api_docs/python/tf/layers) or [TensorFlow Layers (contrib)](https://www.tensorflow.org/api_guides/python/contrib.layers) packages to build each layer, except the layers you build in the \"Convolutional and Max Pooling Layer\" section.  TF Layers is similar to Keras's and TFLearn's abstraction to layers, so it's easy to pickup.\n",
    "\n",
    ">However, if you would like to get the most out of this course, try to solve all the problems _without_ using anything from the TF Layers packages. You **can** still use classes from other packages that happen to have the same name as ones you find in TF Layers! For example, instead of using the TF Layers version of the `conv2d` class, [tf.layers.conv2d](https://www.tensorflow.org/api_docs/python/tf/layers/conv2d), you would want to use the TF Neural Network version of `conv2d`, [tf.nn.conv2d](https://www.tensorflow.org/api_docs/python/tf/nn/conv2d). \n",
    "\n",
    "Let's begin!\n",
    "\n",
    "### Input\n",
    "The neural network needs to read the image data, one-hot encoded labels, and dropout keep probability. Implement the following functions\n",
    "* Implement `neural_net_image_input`\n",
    " * Return a [TF Placeholder](https://www.tensorflow.org/api_docs/python/tf/placeholder)\n",
    " * Set the shape using `image_shape` with batch size set to `None`.\n",
    " * Name the TensorFlow placeholder \"x\" using the TensorFlow `name` parameter in the [TF Placeholder](https://www.tensorflow.org/api_docs/python/tf/placeholder).\n",
    "* Implement `neural_net_label_input`\n",
    " * Return a [TF Placeholder](https://www.tensorflow.org/api_docs/python/tf/placeholder)\n",
    " * Set the shape using `n_classes` with batch size set to `None`.\n",
    " * Name the TensorFlow placeholder \"y\" using the TensorFlow `name` parameter in the [TF Placeholder](https://www.tensorflow.org/api_docs/python/tf/placeholder).\n",
    "* Implement `neural_net_keep_prob_input`\n",
    " * Return a [TF Placeholder](https://www.tensorflow.org/api_docs/python/tf/placeholder) for dropout keep probability.\n",
    " * Name the TensorFlow placeholder \"keep_prob\" using the TensorFlow `name` parameter in the [TF Placeholder](https://www.tensorflow.org/api_docs/python/tf/placeholder).\n",
    "\n",
    "These names will be used at the end of the project to load your saved model.\n",
    "\n",
    "Note: `None` for shapes in TensorFlow allow for a dynamic size."
   ]
  },
  {
   "cell_type": "code",
   "execution_count": 7,
   "metadata": {},
   "outputs": [
    {
     "name": "stdout",
     "output_type": "stream",
     "text": [
      "Image Input Tests Passed.\n",
      "Label Input Tests Passed.\n",
      "Keep Prob Tests Passed.\n"
     ]
    }
   ],
   "source": [
    "import tensorflow as tf\n",
    "\n",
    "def neural_net_image_input(image_shape):\n",
    "    \"\"\"\n",
    "    Return a Tensor for a batch of image input\n",
    "    : image_shape: Shape of the images\n",
    "    : return: Tensor for image input.\n",
    "    \"\"\"\n",
    "    # TODO: Implement Function\n",
    "    image_input = tf.placeholder(tf.float32, (None, image_shape[0], image_shape[1], image_shape[2]), name=\"x\")\n",
    "    return image_input\n",
    "\n",
    "\n",
    "def neural_net_label_input(n_classes):\n",
    "    \"\"\"\n",
    "    Return a Tensor for a batch of label input\n",
    "    : n_classes: Number of classes\n",
    "    : return: Tensor for label input.\n",
    "    \"\"\"\n",
    "    # TODO: Implement Function\n",
    "    labels_input = tf.placeholder(tf.float32, (None, n_classes), name=\"y\")\n",
    "    return labels_input\n",
    "\n",
    "\n",
    "def neural_net_keep_prob_input():\n",
    "    \"\"\"\n",
    "    Return a Tensor for keep probability\n",
    "    : return: Tensor for keep probability.\n",
    "    \"\"\"\n",
    "    # TODO: Implement Functionf.float32\n",
    "    keep_prob = tf.placeholder(tf.float32, name=\"keep_prob\")\n",
    "    return keep_prob\n",
    "\n",
    "\n",
    "\"\"\"\n",
    "DON'T MODIFY ANYTHING IN THIS CELL THAT IS BELOW THIS LINE\n",
    "\"\"\"\n",
    "tf.reset_default_graph()\n",
    "tests.test_nn_image_inputs(neural_net_image_input)\n",
    "tests.test_nn_label_inputs(neural_net_label_input)\n",
    "tests.test_nn_keep_prob_inputs(neural_net_keep_prob_input)"
   ]
  },
  {
   "cell_type": "markdown",
   "metadata": {},
   "source": [
    "### Convolution and Max Pooling Layer\n",
    "Convolution layers have a lot of success with images. For this code cell, you should implement the function `conv2d_maxpool` to apply convolution then max pooling:\n",
    "* Create the weight and bias using `conv_ksize`, `conv_num_outputs` and the shape of `x_tensor`.\n",
    "* Apply a convolution to `x_tensor` using weight and `conv_strides`.\n",
    " * We recommend you use same padding, but you're welcome to use any padding.\n",
    "* Add bias\n",
    "* Add a nonlinear activation to the convolution.\n",
    "* Apply Max Pooling using `pool_ksize` and `pool_strides`.\n",
    " * We recommend you use same padding, but you're welcome to use any padding.\n",
    "\n",
    "**Note:** You **can't** use [TensorFlow Layers](https://www.tensorflow.org/api_docs/python/tf/layers) or [TensorFlow Layers (contrib)](https://www.tensorflow.org/api_guides/python/contrib.layers) for **this** layer, but you can still use TensorFlow's [Neural Network](https://www.tensorflow.org/api_docs/python/tf/nn) package. You may still use the shortcut option for all the **other** layers."
   ]
  },
  {
   "cell_type": "code",
   "execution_count": 8,
   "metadata": {},
   "outputs": [
    {
     "name": "stdout",
     "output_type": "stream",
     "text": [
      "Tests Passed\n"
     ]
    }
   ],
   "source": [
    "def conv2d_maxpool(x_tensor, conv_num_outputs, conv_ksize, conv_strides, pool_ksize, pool_strides):\n",
    "    \"\"\"\n",
    "    Apply convolution then max pooling to x_tensor\n",
    "    :param x_tensor: TensorFlow Tensor\n",
    "    :param conv_num_outputs: Number of outputs for the convolutional layer\n",
    "    :param conv_ksize: kernal size 2-D Tuple for the convolutional layer\n",
    "    :param conv_strides: Stride 2-D Tuple for convolution\n",
    "    :param pool_ksize: kernal size 2-D Tuple for pool\n",
    "    :param pool_strides: Stride 2-D Tuple for pool\n",
    "    : return: A tensor that represents convolution and max pooling of x_tensor\n",
    "    \"\"\"\n",
    "    # TODO: Implement Function\n",
    "    in_channels = int(x_tensor.get_shape()[3])\n",
    "    weight = tf.Variable(tf.truncated_normal((conv_ksize[0], conv_ksize[1], \n",
    "                                              in_channels, conv_num_outputs),\n",
    "                                             stddev=0.1))\n",
    "    bias = tf.Variable(tf.zeros(conv_num_outputs))\n",
    "    conv2d = tf.nn.conv2d(x_tensor, weight, [1, conv_strides[0], conv_strides[1], 1], \"SAME\")\n",
    "    features = conv2d + bias\n",
    "    conv2dout = tf.nn.relu(features)\n",
    "    layerout = tf.nn.max_pool(conv2dout, [1, pool_ksize[0], pool_ksize[1], 1], \n",
    "                              [1, pool_strides[0], pool_strides[1], 1], \"SAME\")\n",
    "    return layerout \n",
    "\n",
    "\n",
    "\"\"\"\n",
    "DON'T MODIFY ANYTHING IN THIS CELL THAT IS BELOW THIS LINE\n",
    "\"\"\"\n",
    "tests.test_con_pool(conv2d_maxpool)"
   ]
  },
  {
   "cell_type": "markdown",
   "metadata": {},
   "source": [
    "### Flatten Layer\n",
    "Implement the `flatten` function to change the dimension of `x_tensor` from a 4-D tensor to a 2-D tensor.  The output should be the shape (*Batch Size*, *Flattened Image Size*). Shortcut option: you can use classes from the [TensorFlow Layers](https://www.tensorflow.org/api_docs/python/tf/layers) or [TensorFlow Layers (contrib)](https://www.tensorflow.org/api_guides/python/contrib.layers) packages for this layer. For more of a challenge, only use other TensorFlow packages."
   ]
  },
  {
   "cell_type": "code",
   "execution_count": 9,
   "metadata": {},
   "outputs": [
    {
     "name": "stdout",
     "output_type": "stream",
     "text": [
      "Tests Passed\n"
     ]
    }
   ],
   "source": [
    "def flatten(x_tensor):\n",
    "    \"\"\"\n",
    "    Flatten x_tensor to (Batch Size, Flattened Image Size)\n",
    "    : x_tensor: A tensor of size (Batch Size, ...), where ... are the image dimensions.\n",
    "    : return: A tensor of size (Batch Size, Flattened Image Size).\n",
    "    \"\"\"\n",
    "    # TODO: Implement Function\n",
    "    shape = x_tensor.get_shape()\n",
    "    flattened_image_size = int(shape[1] * shape[2] * shape[3])\n",
    "    flattened_x_tensor = tf.reshape(x_tensor, [-1, flattened_image_size])\n",
    "    return flattened_x_tensor\n",
    "\n",
    "\n",
    "\"\"\"\n",
    "DON'T MODIFY ANYTHING IN THIS CELL THAT IS BELOW THIS LINE\n",
    "\"\"\"\n",
    "tests.test_flatten(flatten)"
   ]
  },
  {
   "cell_type": "markdown",
   "metadata": {},
   "source": [
    "### Fully-Connected Layer\n",
    "Implement the `fully_conn` function to apply a fully connected layer to `x_tensor` with the shape (*Batch Size*, *num_outputs*). Shortcut option: you can use classes from the [TensorFlow Layers](https://www.tensorflow.org/api_docs/python/tf/layers) or [TensorFlow Layers (contrib)](https://www.tensorflow.org/api_guides/python/contrib.layers) packages for this layer. For more of a challenge, only use other TensorFlow packages."
   ]
  },
  {
   "cell_type": "code",
   "execution_count": 10,
   "metadata": {},
   "outputs": [
    {
     "name": "stdout",
     "output_type": "stream",
     "text": [
      "Tests Passed\n"
     ]
    }
   ],
   "source": [
    "def fully_conn(x_tensor, num_outputs):\n",
    "    \"\"\"\n",
    "    Apply a fully connected layer to x_tensor using weight and bias\n",
    "    : x_tensor: A 2-D tensor where the first dimension is batch size.\n",
    "    : num_outputs: The number of output that the new tensor should be.\n",
    "    : return: A 2-D tensor where the second dimension is num_outputs.\n",
    "    \"\"\"\n",
    "    # TODO: Implement Function\n",
    "    weight = tf.Variable(tf.truncated_normal((int(x_tensor.shape[1]),num_outputs), stddev=0.1))\n",
    "    bias = tf.Variable(tf.zeros(num_outputs))\n",
    "    layer_out = tf.nn.relu(tf.add(tf.matmul(x_tensor, weight), bias))\n",
    "    return layer_out\n",
    "\n",
    "\n",
    "\"\"\"\n",
    "DON'T MODIFY ANYTHING IN THIS CELL THAT IS BELOW THIS LINE\n",
    "\"\"\"\n",
    "tests.test_fully_conn(fully_conn)"
   ]
  },
  {
   "cell_type": "markdown",
   "metadata": {},
   "source": [
    "### Output Layer\n",
    "Implement the `output` function to apply a fully connected layer to `x_tensor` with the shape (*Batch Size*, *num_outputs*). Shortcut option: you can use classes from the [TensorFlow Layers](https://www.tensorflow.org/api_docs/python/tf/layers) or [TensorFlow Layers (contrib)](https://www.tensorflow.org/api_guides/python/contrib.layers) packages for this layer. For more of a challenge, only use other TensorFlow packages.\n",
    "\n",
    "**Note:** Activation, softmax, or cross entropy should **not** be applied to this."
   ]
  },
  {
   "cell_type": "code",
   "execution_count": 11,
   "metadata": {},
   "outputs": [
    {
     "name": "stdout",
     "output_type": "stream",
     "text": [
      "Tests Passed\n"
     ]
    }
   ],
   "source": [
    "def output(x_tensor, num_outputs):\n",
    "    \"\"\"\n",
    "    Apply a output layer to x_tensor using weight and bias\n",
    "    : x_tensor: A 2-D tensor where the first dimension is batch size.\n",
    "    : num_outputs: The number of output that the new tensor should be.\n",
    "    : return: A 2-D tensor where the second dimension is num_outputs.\n",
    "    \"\"\"\n",
    "    # TODO: Implement Function\n",
    "    weight = tf.Variable(tf.truncated_normal((int(x_tensor.shape[1]),num_outputs), stddev=0.1))\n",
    "    bias = tf.Variable(tf.zeros(num_outputs))\n",
    "    layer_out = tf.add(tf.matmul(x_tensor, weight), bias)\n",
    "    return layer_out\n",
    "\n",
    "\n",
    "\"\"\"\n",
    "DON'T MODIFY ANYTHING IN THIS CELL THAT IS BELOW THIS LINE\n",
    "\"\"\"\n",
    "tests.test_output(output)"
   ]
  },
  {
   "cell_type": "markdown",
   "metadata": {},
   "source": [
    "### Create Convolutional Model\n",
    "Implement the function `conv_net` to create a convolutional neural network model. The function takes in a batch of images, `x`, and outputs logits.  Use the layers you created above to create this model:\n",
    "\n",
    "* Apply 1, 2, or 3 Convolution and Max Pool layers\n",
    "* Apply a Flatten Layer\n",
    "* Apply 1, 2, or 3 Fully Connected Layers\n",
    "* Apply an Output Layer\n",
    "* Return the output\n",
    "* Apply [TensorFlow's Dropout](https://www.tensorflow.org/api_docs/python/tf/nn/dropout) to one or more layers in the model using `keep_prob`. "
   ]
  },
  {
   "cell_type": "code",
   "execution_count": 12,
   "metadata": {},
   "outputs": [
    {
     "name": "stdout",
     "output_type": "stream",
     "text": [
      "Neural Network Built!\n"
     ]
    }
   ],
   "source": [
    "def conv_net(x, keep_prob):\n",
    "    \"\"\"\n",
    "    Create a convolutional neural network model\n",
    "    : x: Placeholder tensor that holds image data.\n",
    "    : keep_prob: Placeholder tensor that hold dropout keep probability.\n",
    "    : return: Tensor that represents logits\n",
    "    \"\"\"\n",
    "    # TODO: Apply 1, 2, or 3 Convolution and Max Pool layers\n",
    "    #    Play around with different number of outputs, kernel size and stride\n",
    "    # Function Definition from Above:\n",
    "    #    conv2d_maxpool(x_tensor, conv_num_outputs, conv_ksize, conv_strides, pool_ksize, pool_strides)\n",
    "    layer1 = conv2d_maxpool(x_tensor=x, conv_num_outputs=16, conv_ksize=(3,3), conv_strides=(1,1),\n",
    "                            pool_ksize=(2,2), pool_strides=(2,2))\n",
    "    \n",
    "    layer2 = conv2d_maxpool(x_tensor=layer1, conv_num_outputs=64, conv_ksize=(3,3), conv_strides=(1,1),\n",
    "                            pool_ksize=(2,2), pool_strides=(2,2))\n",
    "    \n",
    "    layer3 = conv2d_maxpool(x_tensor=layer2, conv_num_outputs=256, conv_ksize=(3,3), conv_strides=(1,1),\n",
    "                            pool_ksize=(2,2), pool_strides=(2,2))\n",
    "    \n",
    "    # TODO: Apply a Flatten Layer\n",
    "    # Function Definition from Above:\n",
    "    #   flatten(x_tensor)\n",
    "    \n",
    "    layer4 = flatten(layer3)\n",
    "\n",
    "    # TODO: Apply 1, 2, or 3 Fully Connected Layers\n",
    "    #    Play around with different number of outputs\n",
    "    # Function Definition from Above:\n",
    "    #   fully_conn(x_tensor, num_outputs)\n",
    "    \n",
    "    layer5 = fully_conn(x_tensor=layer4, num_outputs=1000)\n",
    "    layer5_drop = tf.nn.dropout(layer5, keep_prob)\n",
    "    \n",
    "    layer6 = fully_conn(x_tensor=layer5_drop, num_outputs=250)\n",
    "    layer6_drop = tf.nn.dropout(layer6, keep_prob)\n",
    "    \n",
    "    layer7 = fully_conn(x_tensor=layer6_drop, num_outputs=50)\n",
    "    layer7_drop = tf.nn.dropout(layer7, keep_prob)\n",
    "    \n",
    "    \n",
    "    # TODO: Apply an Output Layer\n",
    "    #    Set this to the number of classes\n",
    "    # Function Definition from Above:\n",
    "    #   output(x_tensor, num_outputs)\n",
    "    output_layer = output(x_tensor=layer7_drop, num_outputs=10)\n",
    "    \n",
    "    # TODO: return output\n",
    "    return output_layer\n",
    "\n",
    "\n",
    "\"\"\"\n",
    "DON'T MODIFY ANYTHING IN THIS CELL THAT IS BELOW THIS LINE\n",
    "\"\"\"\n",
    "\n",
    "##############################\n",
    "## Build the Neural Network ##\n",
    "##############################\n",
    "\n",
    "# Remove previous weights, bias, inputs, etc..\n",
    "tf.reset_default_graph()\n",
    "\n",
    "# Inputs\n",
    "x = neural_net_image_input((32, 32, 3))\n",
    "y = neural_net_label_input(10)\n",
    "keep_prob = neural_net_keep_prob_input()\n",
    "\n",
    "# Model\n",
    "logits = conv_net(x, keep_prob)\n",
    "\n",
    "# Name logits Tensor, so that is can be loaded from disk after training\n",
    "logits = tf.identity(logits, name='logits')\n",
    "\n",
    "# Loss and Optimizer\n",
    "cost = tf.reduce_mean(tf.nn.softmax_cross_entropy_with_logits(logits=logits, labels=y))\n",
    "optimizer = tf.train.AdamOptimizer().minimize(cost)\n",
    "\n",
    "# Accuracy\n",
    "correct_pred = tf.equal(tf.argmax(logits, 1), tf.argmax(y, 1))\n",
    "accuracy = tf.reduce_mean(tf.cast(correct_pred, tf.float32), name='accuracy')\n",
    "\n",
    "tests.test_conv_net(conv_net)"
   ]
  },
  {
   "cell_type": "markdown",
   "metadata": {},
   "source": [
    "## Train the Neural Network\n",
    "### Single Optimization\n",
    "Implement the function `train_neural_network` to do a single optimization.  The optimization should use `optimizer` to optimize in `session` with a `feed_dict` of the following:\n",
    "* `x` for image input\n",
    "* `y` for labels\n",
    "* `keep_prob` for keep probability for dropout\n",
    "\n",
    "This function will be called for each batch, so `tf.global_variables_initializer()` has already been called.\n",
    "\n",
    "Note: Nothing needs to be returned. This function is only optimizing the neural network."
   ]
  },
  {
   "cell_type": "code",
   "execution_count": 13,
   "metadata": {},
   "outputs": [
    {
     "name": "stdout",
     "output_type": "stream",
     "text": [
      "Tests Passed\n"
     ]
    }
   ],
   "source": [
    "def train_neural_network(session, optimizer, keep_probability, feature_batch, label_batch):\n",
    "    \"\"\"\n",
    "    Optimize the session on a batch of images and labels\n",
    "    : session: Current TensorFlow session\n",
    "    : optimizer: TensorFlow optimizer function\n",
    "    : keep_probability: keep probability\n",
    "    : feature_batch: Batch of Numpy image data\n",
    "    : label_batch: Batch of Numpy label data\n",
    "    \"\"\"\n",
    "    # TODO: Implement Function\n",
    "    session.run(optimizer, feed_dict={x:feature_batch,\n",
    "                                      y:label_batch,\n",
    "                                      keep_prob:keep_probability})\n",
    "\n",
    "\n",
    "\"\"\"\n",
    "DON'T MODIFY ANYTHING IN THIS CELL THAT IS BELOW THIS LINE\n",
    "\"\"\"\n",
    "tests.test_train_nn(train_neural_network)"
   ]
  },
  {
   "cell_type": "markdown",
   "metadata": {},
   "source": [
    "### Show Stats\n",
    "Implement the function `print_stats` to print loss and validation accuracy.  Use the global variables `valid_features` and `valid_labels` to calculate validation accuracy.  Use a keep probability of `1.0` to calculate the loss and validation accuracy."
   ]
  },
  {
   "cell_type": "code",
   "execution_count": 14,
   "metadata": {},
   "outputs": [],
   "source": [
    "def print_stats(session, feature_batch, label_batch, cost, accuracy):\n",
    "    \"\"\"\n",
    "    Print information about loss and validation accuracy\n",
    "    : session: Current TensorFlow session\n",
    "    : feature_batch: Batch of Numpy image data\n",
    "    : label_batch: Batch of Numpy label data\n",
    "    : cost: TensorFlow cost function\n",
    "    : accuracy: TensorFlow accuracy function\n",
    "    \"\"\"\n",
    "    # TODO: Implement Function\n",
    "    train_loss, train_accuracy = session.run([cost, accuracy], feed_dict={x:feature_batch,\n",
    "                                                                    y:label_batch,\n",
    "                                                                    keep_prob:1.0})\n",
    "    valid_accuracy = session.run(accuracy, feed_dict={x:valid_features,\n",
    "                                                      y:valid_labels,\n",
    "                                                      keep_prob:1.0})\n",
    "    \n",
    "    print(\"Train Loss: {:.4f}\".format(train_loss), \n",
    "          \"Train Accuracy: {:.4f}\".format(train_accuracy),\n",
    "          \"Validation Accuracy: {:.4f}\".format(valid_accuracy))"
   ]
  },
  {
   "cell_type": "markdown",
   "metadata": {},
   "source": [
    "### Hyperparameters\n",
    "Tune the following parameters:\n",
    "* Set `epochs` to the number of iterations until the network stops learning or start overfitting\n",
    "* Set `batch_size` to the highest number that your machine has memory for.  Most people set them to common sizes of memory:\n",
    " * 64\n",
    " * 128\n",
    " * 256\n",
    " * ...\n",
    "* Set `keep_probability` to the probability of keeping a node using dropout"
   ]
  },
  {
   "cell_type": "code",
   "execution_count": 23,
   "metadata": {},
   "outputs": [],
   "source": [
    "# TODO: Tune Parameters\n",
    "epochs = 20\n",
    "batch_size = 500\n",
    "keep_probability = 0.75"
   ]
  },
  {
   "cell_type": "markdown",
   "metadata": {},
   "source": [
    "### Train on a Single CIFAR-10 Batch\n",
    "Instead of training the neural network on all the CIFAR-10 batches of data, let's use a single batch. This should save time while you iterate on the model to get a better accuracy.  Once the final validation accuracy is 50% or greater, run the model on all the data in the next section."
   ]
  },
  {
   "cell_type": "code",
   "execution_count": 24,
   "metadata": {},
   "outputs": [
    {
     "name": "stdout",
     "output_type": "stream",
     "text": [
      "Checking the Training on a Single Batch...\n",
      "Epoch  1, CIFAR-10 Batch 1:  Train Loss: 2.2431 Train Accuracy: 0.1740 Validation Accuracy: 0.1918\n",
      "Epoch  2, CIFAR-10 Batch 1:  Train Loss: 1.9686 Train Accuracy: 0.2760 Validation Accuracy: 0.2806\n",
      "Epoch  3, CIFAR-10 Batch 1:  Train Loss: 1.7666 Train Accuracy: 0.3480 Validation Accuracy: 0.3566\n",
      "Epoch  4, CIFAR-10 Batch 1:  Train Loss: 1.6810 Train Accuracy: 0.4160 Validation Accuracy: 0.3758\n",
      "Epoch  5, CIFAR-10 Batch 1:  Train Loss: 1.5108 Train Accuracy: 0.4620 Validation Accuracy: 0.4302\n",
      "Epoch  6, CIFAR-10 Batch 1:  Train Loss: 1.3921 Train Accuracy: 0.5020 Validation Accuracy: 0.4548\n",
      "Epoch  7, CIFAR-10 Batch 1:  Train Loss: 1.2935 Train Accuracy: 0.5380 Validation Accuracy: 0.4874\n",
      "Epoch  8, CIFAR-10 Batch 1:  Train Loss: 1.1832 Train Accuracy: 0.5980 Validation Accuracy: 0.5104\n",
      "Epoch  9, CIFAR-10 Batch 1:  Train Loss: 1.1209 Train Accuracy: 0.6080 Validation Accuracy: 0.5170\n",
      "Epoch 10, CIFAR-10 Batch 1:  Train Loss: 1.0145 Train Accuracy: 0.6280 Validation Accuracy: 0.5434\n",
      "Epoch 11, CIFAR-10 Batch 1:  Train Loss: 0.9501 Train Accuracy: 0.6620 Validation Accuracy: 0.5576\n",
      "Epoch 12, CIFAR-10 Batch 1:  Train Loss: 0.9130 Train Accuracy: 0.6700 Validation Accuracy: 0.5532\n",
      "Epoch 13, CIFAR-10 Batch 1:  Train Loss: 0.8218 Train Accuracy: 0.7220 Validation Accuracy: 0.5550\n",
      "Epoch 14, CIFAR-10 Batch 1:  Train Loss: 0.7563 Train Accuracy: 0.7480 Validation Accuracy: 0.5636\n",
      "Epoch 15, CIFAR-10 Batch 1:  Train Loss: 0.6511 Train Accuracy: 0.7680 Validation Accuracy: 0.5926\n",
      "Epoch 16, CIFAR-10 Batch 1:  Train Loss: 0.5552 Train Accuracy: 0.8220 Validation Accuracy: 0.5990\n",
      "Epoch 17, CIFAR-10 Batch 1:  Train Loss: 0.5278 Train Accuracy: 0.8120 Validation Accuracy: 0.5814\n",
      "Epoch 18, CIFAR-10 Batch 1:  Train Loss: 0.4547 Train Accuracy: 0.8580 Validation Accuracy: 0.5920\n",
      "Epoch 19, CIFAR-10 Batch 1:  Train Loss: 0.3794 Train Accuracy: 0.8900 Validation Accuracy: 0.6016\n",
      "Epoch 20, CIFAR-10 Batch 1:  Train Loss: 0.3521 Train Accuracy: 0.8880 Validation Accuracy: 0.5912\n"
     ]
    }
   ],
   "source": [
    "\"\"\"\n",
    "DON'T MODIFY ANYTHING IN THIS CELL\n",
    "\"\"\"\n",
    "print('Checking the Training on a Single Batch...')\n",
    "with tf.Session() as sess:\n",
    "    # Initializing the variables\n",
    "    sess.run(tf.global_variables_initializer())\n",
    "    \n",
    "    # Training cycle\n",
    "    for epoch in range(epochs):\n",
    "        batch_i = 1\n",
    "        for batch_features, batch_labels in helper.load_preprocess_training_batch(batch_i, batch_size):\n",
    "            train_neural_network(sess, optimizer, keep_probability, batch_features, batch_labels)\n",
    "        print('Epoch {:>2}, CIFAR-10 Batch {}:  '.format(epoch + 1, batch_i), end='')\n",
    "        print_stats(sess, batch_features, batch_labels, cost, accuracy)"
   ]
  },
  {
   "cell_type": "markdown",
   "metadata": {},
   "source": [
    "### Fully Train the Model\n",
    "Now that you got a good accuracy with a single CIFAR-10 batch, try it with all five batches."
   ]
  },
  {
   "cell_type": "code",
   "execution_count": 25,
   "metadata": {},
   "outputs": [
    {
     "name": "stdout",
     "output_type": "stream",
     "text": [
      "Training...\n",
      "Epoch  1, CIFAR-10 Batch 1:  Train Loss: 2.1651 Train Accuracy: 0.1700 Validation Accuracy: 0.1678\n",
      "Epoch  1, CIFAR-10 Batch 2:  Train Loss: 2.0603 Train Accuracy: 0.2600 Validation Accuracy: 0.2616\n",
      "Epoch  1, CIFAR-10 Batch 3:  Train Loss: 1.9124 Train Accuracy: 0.3340 Validation Accuracy: 0.3268\n",
      "Epoch  1, CIFAR-10 Batch 4:  Train Loss: 1.7395 Train Accuracy: 0.3920 Validation Accuracy: 0.3556\n",
      "Epoch  1, CIFAR-10 Batch 5:  Train Loss: 1.6855 Train Accuracy: 0.4160 Validation Accuracy: 0.3976\n",
      "Epoch  2, CIFAR-10 Batch 1:  Train Loss: 1.6389 Train Accuracy: 0.4240 Validation Accuracy: 0.3954\n",
      "Epoch  2, CIFAR-10 Batch 2:  Train Loss: 1.5206 Train Accuracy: 0.4540 Validation Accuracy: 0.4556\n",
      "Epoch  2, CIFAR-10 Batch 3:  Train Loss: 1.3516 Train Accuracy: 0.5060 Validation Accuracy: 0.4746\n",
      "Epoch  2, CIFAR-10 Batch 4:  Train Loss: 1.3195 Train Accuracy: 0.4900 Validation Accuracy: 0.4932\n",
      "Epoch  2, CIFAR-10 Batch 5:  Train Loss: 1.3238 Train Accuracy: 0.5240 Validation Accuracy: 0.5064\n",
      "Epoch  3, CIFAR-10 Batch 1:  Train Loss: 1.3133 Train Accuracy: 0.5380 Validation Accuracy: 0.5194\n",
      "Epoch  3, CIFAR-10 Batch 2:  Train Loss: 1.2451 Train Accuracy: 0.5780 Validation Accuracy: 0.5284\n",
      "Epoch  3, CIFAR-10 Batch 3:  Train Loss: 1.1513 Train Accuracy: 0.5920 Validation Accuracy: 0.5400\n",
      "Epoch  3, CIFAR-10 Batch 4:  Train Loss: 1.1298 Train Accuracy: 0.5960 Validation Accuracy: 0.5652\n",
      "Epoch  3, CIFAR-10 Batch 5:  Train Loss: 1.1216 Train Accuracy: 0.5940 Validation Accuracy: 0.5724\n",
      "Epoch  4, CIFAR-10 Batch 1:  Train Loss: 1.1083 Train Accuracy: 0.6220 Validation Accuracy: 0.5864\n",
      "Epoch  4, CIFAR-10 Batch 2:  Train Loss: 1.0969 Train Accuracy: 0.6340 Validation Accuracy: 0.5698\n",
      "Epoch  4, CIFAR-10 Batch 3:  Train Loss: 1.0432 Train Accuracy: 0.6440 Validation Accuracy: 0.5926\n",
      "Epoch  4, CIFAR-10 Batch 4:  Train Loss: 0.9860 Train Accuracy: 0.6360 Validation Accuracy: 0.6010\n",
      "Epoch  4, CIFAR-10 Batch 5:  Train Loss: 0.9831 Train Accuracy: 0.6600 Validation Accuracy: 0.6138\n",
      "Epoch  5, CIFAR-10 Batch 1:  Train Loss: 0.9898 Train Accuracy: 0.6560 Validation Accuracy: 0.6146\n",
      "Epoch  5, CIFAR-10 Batch 2:  Train Loss: 0.9003 Train Accuracy: 0.6940 Validation Accuracy: 0.6338\n",
      "Epoch  5, CIFAR-10 Batch 3:  Train Loss: 0.9217 Train Accuracy: 0.6600 Validation Accuracy: 0.6276\n",
      "Epoch  5, CIFAR-10 Batch 4:  Train Loss: 0.8745 Train Accuracy: 0.6860 Validation Accuracy: 0.6282\n",
      "Epoch  5, CIFAR-10 Batch 5:  Train Loss: 0.8649 Train Accuracy: 0.6980 Validation Accuracy: 0.6394\n",
      "Epoch  6, CIFAR-10 Batch 1:  Train Loss: 0.8430 Train Accuracy: 0.7100 Validation Accuracy: 0.6496\n",
      "Epoch  6, CIFAR-10 Batch 2:  Train Loss: 0.8049 Train Accuracy: 0.7280 Validation Accuracy: 0.6510\n",
      "Epoch  6, CIFAR-10 Batch 3:  Train Loss: 0.8411 Train Accuracy: 0.6880 Validation Accuracy: 0.6380\n",
      "Epoch  6, CIFAR-10 Batch 4:  Train Loss: 0.7436 Train Accuracy: 0.7360 Validation Accuracy: 0.6578\n",
      "Epoch  6, CIFAR-10 Batch 5:  Train Loss: 0.7365 Train Accuracy: 0.7500 Validation Accuracy: 0.6666\n",
      "Epoch  7, CIFAR-10 Batch 1:  Train Loss: 0.7411 Train Accuracy: 0.7300 Validation Accuracy: 0.6558\n",
      "Epoch  7, CIFAR-10 Batch 2:  Train Loss: 0.7140 Train Accuracy: 0.7700 Validation Accuracy: 0.6664\n",
      "Epoch  7, CIFAR-10 Batch 3:  Train Loss: 0.7583 Train Accuracy: 0.7200 Validation Accuracy: 0.6608\n",
      "Epoch  7, CIFAR-10 Batch 4:  Train Loss: 0.6859 Train Accuracy: 0.7780 Validation Accuracy: 0.6752\n",
      "Epoch  7, CIFAR-10 Batch 5:  Train Loss: 0.6113 Train Accuracy: 0.7960 Validation Accuracy: 0.6832\n",
      "Epoch  8, CIFAR-10 Batch 1:  Train Loss: 0.6492 Train Accuracy: 0.7740 Validation Accuracy: 0.6802\n",
      "Epoch  8, CIFAR-10 Batch 2:  Train Loss: 0.6684 Train Accuracy: 0.7840 Validation Accuracy: 0.6754\n",
      "Epoch  8, CIFAR-10 Batch 3:  Train Loss: 0.6420 Train Accuracy: 0.7600 Validation Accuracy: 0.6808\n",
      "Epoch  8, CIFAR-10 Batch 4:  Train Loss: 0.6233 Train Accuracy: 0.7900 Validation Accuracy: 0.6808\n",
      "Epoch  8, CIFAR-10 Batch 5:  Train Loss: 0.5431 Train Accuracy: 0.8060 Validation Accuracy: 0.6928\n",
      "Epoch  9, CIFAR-10 Batch 1:  Train Loss: 0.6166 Train Accuracy: 0.7720 Validation Accuracy: 0.6768\n",
      "Epoch  9, CIFAR-10 Batch 2:  Train Loss: 0.6244 Train Accuracy: 0.7880 Validation Accuracy: 0.6872\n",
      "Epoch  9, CIFAR-10 Batch 3:  Train Loss: 0.5679 Train Accuracy: 0.7960 Validation Accuracy: 0.6860\n",
      "Epoch  9, CIFAR-10 Batch 4:  Train Loss: 0.5146 Train Accuracy: 0.8140 Validation Accuracy: 0.7074\n",
      "Epoch  9, CIFAR-10 Batch 5:  Train Loss: 0.4537 Train Accuracy: 0.8600 Validation Accuracy: 0.6972\n",
      "Epoch 10, CIFAR-10 Batch 1:  Train Loss: 0.5461 Train Accuracy: 0.8100 Validation Accuracy: 0.6794\n",
      "Epoch 10, CIFAR-10 Batch 2:  Train Loss: 0.5853 Train Accuracy: 0.7960 Validation Accuracy: 0.6786\n",
      "Epoch 10, CIFAR-10 Batch 3:  Train Loss: 0.4697 Train Accuracy: 0.8280 Validation Accuracy: 0.7052\n",
      "Epoch 10, CIFAR-10 Batch 4:  Train Loss: 0.4510 Train Accuracy: 0.8480 Validation Accuracy: 0.7080\n",
      "Epoch 10, CIFAR-10 Batch 5:  Train Loss: 0.3694 Train Accuracy: 0.8780 Validation Accuracy: 0.7112\n",
      "Epoch 11, CIFAR-10 Batch 1:  Train Loss: 0.4729 Train Accuracy: 0.8320 Validation Accuracy: 0.6874\n",
      "Epoch 11, CIFAR-10 Batch 2:  Train Loss: 0.5328 Train Accuracy: 0.8160 Validation Accuracy: 0.6840\n",
      "Epoch 11, CIFAR-10 Batch 3:  Train Loss: 0.4627 Train Accuracy: 0.8360 Validation Accuracy: 0.6982\n",
      "Epoch 11, CIFAR-10 Batch 4:  Train Loss: 0.3783 Train Accuracy: 0.8820 Validation Accuracy: 0.7072\n",
      "Epoch 11, CIFAR-10 Batch 5:  Train Loss: 0.3621 Train Accuracy: 0.8720 Validation Accuracy: 0.6920\n",
      "Epoch 12, CIFAR-10 Batch 1:  Train Loss: 0.4203 Train Accuracy: 0.8620 Validation Accuracy: 0.6778\n",
      "Epoch 12, CIFAR-10 Batch 2:  Train Loss: 0.4253 Train Accuracy: 0.8660 Validation Accuracy: 0.6958\n",
      "Epoch 12, CIFAR-10 Batch 3:  Train Loss: 0.3981 Train Accuracy: 0.8720 Validation Accuracy: 0.7102\n",
      "Epoch 12, CIFAR-10 Batch 4:  Train Loss: 0.3097 Train Accuracy: 0.9080 Validation Accuracy: 0.7216\n",
      "Epoch 12, CIFAR-10 Batch 5:  Train Loss: 0.2871 Train Accuracy: 0.9120 Validation Accuracy: 0.7154\n",
      "Epoch 13, CIFAR-10 Batch 1:  Train Loss: 0.3550 Train Accuracy: 0.8880 Validation Accuracy: 0.6952\n",
      "Epoch 13, CIFAR-10 Batch 2:  Train Loss: 0.4270 Train Accuracy: 0.8620 Validation Accuracy: 0.7022\n",
      "Epoch 13, CIFAR-10 Batch 3:  Train Loss: 0.4121 Train Accuracy: 0.8380 Validation Accuracy: 0.7022\n",
      "Epoch 13, CIFAR-10 Batch 4:  Train Loss: 0.2785 Train Accuracy: 0.9240 Validation Accuracy: 0.7258\n",
      "Epoch 13, CIFAR-10 Batch 5:  Train Loss: 0.2755 Train Accuracy: 0.9220 Validation Accuracy: 0.7080\n",
      "Epoch 14, CIFAR-10 Batch 1:  Train Loss: 0.3277 Train Accuracy: 0.8900 Validation Accuracy: 0.7024\n",
      "Epoch 14, CIFAR-10 Batch 2:  Train Loss: 0.3034 Train Accuracy: 0.8940 Validation Accuracy: 0.7236\n",
      "Epoch 14, CIFAR-10 Batch 3:  Train Loss: 0.3302 Train Accuracy: 0.8960 Validation Accuracy: 0.7086\n",
      "Epoch 14, CIFAR-10 Batch 4:  Train Loss: 0.2737 Train Accuracy: 0.9160 Validation Accuracy: 0.7060\n",
      "Epoch 14, CIFAR-10 Batch 5:  Train Loss: 0.2035 Train Accuracy: 0.9460 Validation Accuracy: 0.7218\n",
      "Epoch 15, CIFAR-10 Batch 1:  Train Loss: 0.2863 Train Accuracy: 0.9040 Validation Accuracy: 0.6924\n",
      "Epoch 15, CIFAR-10 Batch 2:  Train Loss: 0.2557 Train Accuracy: 0.9320 Validation Accuracy: 0.7216\n",
      "Epoch 15, CIFAR-10 Batch 3:  Train Loss: 0.2704 Train Accuracy: 0.9100 Validation Accuracy: 0.7162\n",
      "Epoch 15, CIFAR-10 Batch 4:  Train Loss: 0.2271 Train Accuracy: 0.9160 Validation Accuracy: 0.7034\n",
      "Epoch 15, CIFAR-10 Batch 5:  Train Loss: 0.1699 Train Accuracy: 0.9660 Validation Accuracy: 0.7286\n",
      "Epoch 16, CIFAR-10 Batch 1:  Train Loss: 0.2528 Train Accuracy: 0.9120 Validation Accuracy: 0.7072\n",
      "Epoch 16, CIFAR-10 Batch 2:  Train Loss: 0.2319 Train Accuracy: 0.9280 Validation Accuracy: 0.7078\n",
      "Epoch 16, CIFAR-10 Batch 3:  Train Loss: 0.2019 Train Accuracy: 0.9340 Validation Accuracy: 0.7320\n",
      "Epoch 16, CIFAR-10 Batch 4:  Train Loss: 0.1447 Train Accuracy: 0.9600 Validation Accuracy: 0.7156\n",
      "Epoch 16, CIFAR-10 Batch 5:  Train Loss: 0.1634 Train Accuracy: 0.9540 Validation Accuracy: 0.7058\n",
      "Epoch 17, CIFAR-10 Batch 1:  Train Loss: 0.2006 Train Accuracy: 0.9340 Validation Accuracy: 0.7196\n",
      "Epoch 17, CIFAR-10 Batch 2:  Train Loss: 0.1872 Train Accuracy: 0.9400 Validation Accuracy: 0.7178\n",
      "Epoch 17, CIFAR-10 Batch 3:  Train Loss: 0.1897 Train Accuracy: 0.9340 Validation Accuracy: 0.7200\n"
     ]
    },
    {
     "name": "stdout",
     "output_type": "stream",
     "text": [
      "Epoch 17, CIFAR-10 Batch 4:  Train Loss: 0.1242 Train Accuracy: 0.9560 Validation Accuracy: 0.7246\n",
      "Epoch 17, CIFAR-10 Batch 5:  Train Loss: 0.1282 Train Accuracy: 0.9700 Validation Accuracy: 0.7162\n",
      "Epoch 18, CIFAR-10 Batch 1:  Train Loss: 0.1383 Train Accuracy: 0.9600 Validation Accuracy: 0.7266\n",
      "Epoch 18, CIFAR-10 Batch 2:  Train Loss: 0.1179 Train Accuracy: 0.9700 Validation Accuracy: 0.7362\n",
      "Epoch 18, CIFAR-10 Batch 3:  Train Loss: 0.1181 Train Accuracy: 0.9680 Validation Accuracy: 0.7186\n",
      "Epoch 18, CIFAR-10 Batch 4:  Train Loss: 0.0891 Train Accuracy: 0.9820 Validation Accuracy: 0.7298\n",
      "Epoch 18, CIFAR-10 Batch 5:  Train Loss: 0.0914 Train Accuracy: 0.9700 Validation Accuracy: 0.7174\n",
      "Epoch 19, CIFAR-10 Batch 1:  Train Loss: 0.1046 Train Accuracy: 0.9720 Validation Accuracy: 0.7216\n",
      "Epoch 19, CIFAR-10 Batch 2:  Train Loss: 0.0956 Train Accuracy: 0.9740 Validation Accuracy: 0.7298\n",
      "Epoch 19, CIFAR-10 Batch 3:  Train Loss: 0.1085 Train Accuracy: 0.9600 Validation Accuracy: 0.7182\n",
      "Epoch 19, CIFAR-10 Batch 4:  Train Loss: 0.1020 Train Accuracy: 0.9660 Validation Accuracy: 0.7048\n",
      "Epoch 19, CIFAR-10 Batch 5:  Train Loss: 0.0785 Train Accuracy: 0.9820 Validation Accuracy: 0.7204\n",
      "Epoch 20, CIFAR-10 Batch 1:  Train Loss: 0.0966 Train Accuracy: 0.9780 Validation Accuracy: 0.7230\n",
      "Epoch 20, CIFAR-10 Batch 2:  Train Loss: 0.0709 Train Accuracy: 0.9840 Validation Accuracy: 0.7186\n",
      "Epoch 20, CIFAR-10 Batch 3:  Train Loss: 0.0782 Train Accuracy: 0.9820 Validation Accuracy: 0.7162\n",
      "Epoch 20, CIFAR-10 Batch 4:  Train Loss: 0.0611 Train Accuracy: 0.9840 Validation Accuracy: 0.7246\n",
      "Epoch 20, CIFAR-10 Batch 5:  Train Loss: 0.0316 Train Accuracy: 0.9940 Validation Accuracy: 0.7298\n"
     ]
    }
   ],
   "source": [
    "\"\"\"\n",
    "DON'T MODIFY ANYTHING IN THIS CELL\n",
    "\"\"\"\n",
    "save_model_path = './image_classification'\n",
    "\n",
    "print('Training...')\n",
    "with tf.Session() as sess:\n",
    "    # Initializing the variables\n",
    "    sess.run(tf.global_variables_initializer())\n",
    "    \n",
    "    # Training cycle\n",
    "    for epoch in range(epochs):\n",
    "        # Loop over all batches\n",
    "        n_batches = 5\n",
    "        for batch_i in range(1, n_batches + 1):\n",
    "            for batch_features, batch_labels in helper.load_preprocess_training_batch(batch_i, batch_size):\n",
    "                train_neural_network(sess, optimizer, keep_probability, batch_features, batch_labels)\n",
    "            print('Epoch {:>2}, CIFAR-10 Batch {}:  '.format(epoch + 1, batch_i), end='')\n",
    "            print_stats(sess, batch_features, batch_labels, cost, accuracy)\n",
    "            \n",
    "    # Save Model\n",
    "    saver = tf.train.Saver()\n",
    "    save_path = saver.save(sess, save_model_path)"
   ]
  },
  {
   "cell_type": "markdown",
   "metadata": {},
   "source": [
    "# Checkpoint\n",
    "The model has been saved to disk.\n",
    "## Test Model\n",
    "Test your model against the test dataset.  This will be your final accuracy. You should have an accuracy greater than 50%. If you don't, keep tweaking the model architecture and parameters."
   ]
  },
  {
   "cell_type": "code",
   "execution_count": 26,
   "metadata": {},
   "outputs": [
    {
     "name": "stdout",
     "output_type": "stream",
     "text": [
      "INFO:tensorflow:Restoring parameters from ./image_classification\n"
     ]
    },
    {
     "name": "stderr",
     "output_type": "stream",
     "text": [
      "INFO:tensorflow:Restoring parameters from ./image_classification\n"
     ]
    },
    {
     "name": "stdout",
     "output_type": "stream",
     "text": [
      "Testing Accuracy: 0.722500017285347\n",
      "\n"
     ]
    },
    {
     "data": {
      "image/png": "[encoded data removed]",
      "text/plain": [
       "<matplotlib.figure.Figure at 0x7fe4bc138d68>"
      ]
     },
     "metadata": {
      "image/png": {
       "height": 319,
       "width": 355
      }
     },
     "output_type": "display_data"
    }
   ],
   "source": [
    "\"\"\"\n",
    "DON'T MODIFY ANYTHING IN THIS CELL\n",
    "\"\"\"\n",
    "%matplotlib inline\n",
    "%config InlineBackend.figure_format = 'retina'\n",
    "\n",
    "import tensorflow as tf\n",
    "import pickle\n",
    "import helper\n",
    "import random\n",
    "\n",
    "# Set batch size if not already set\n",
    "try:\n",
    "    if batch_size:\n",
    "        pass\n",
    "except NameError:\n",
    "    batch_size = 64\n",
    "\n",
    "save_model_path = './image_classification'\n",
    "n_samples = 4\n",
    "top_n_predictions = 3\n",
    "\n",
    "def test_model():\n",
    "    \"\"\"\n",
    "    Test the saved model against the test dataset\n",
    "    \"\"\"\n",
    "\n",
    "    test_features, test_labels = pickle.load(open('preprocess_test.p', mode='rb'))\n",
    "    loaded_graph = tf.Graph()\n",
    "\n",
    "    with tf.Session(graph=loaded_graph) as sess:\n",
    "        # Load model\n",
    "        loader = tf.train.import_meta_graph(save_model_path + '.meta')\n",
    "        loader.restore(sess, save_model_path)\n",
    "\n",
    "        # Get Tensors from loaded model\n",
    "        loaded_x = loaded_graph.get_tensor_by_name('x:0')\n",
    "        loaded_y = loaded_graph.get_tensor_by_name('y:0')\n",
    "        loaded_keep_prob = loaded_graph.get_tensor_by_name('keep_prob:0')\n",
    "        loaded_logits = loaded_graph.get_tensor_by_name('logits:0')\n",
    "        loaded_acc = loaded_graph.get_tensor_by_name('accuracy:0')\n",
    "        \n",
    "        # Get accuracy in batches for memory limitations\n",
    "        test_batch_acc_total = 0\n",
    "        test_batch_count = 0\n",
    "        \n",
    "        for test_feature_batch, test_label_batch in helper.batch_features_labels(test_features, test_labels, batch_size):\n",
    "            test_batch_acc_total += sess.run(\n",
    "                loaded_acc,\n",
    "                feed_dict={loaded_x: test_feature_batch, loaded_y: test_label_batch, loaded_keep_prob: 1.0})\n",
    "            test_batch_count += 1\n",
    "\n",
    "        print('Testing Accuracy: {}\\n'.format(test_batch_acc_total/test_batch_count))\n",
    "\n",
    "        # Print Random Samples\n",
    "        random_test_features, random_test_labels = tuple(zip(*random.sample(list(zip(test_features, test_labels)), n_samples)))\n",
    "        random_test_predictions = sess.run(\n",
    "            tf.nn.top_k(tf.nn.softmax(loaded_logits), top_n_predictions),\n",
    "            feed_dict={loaded_x: random_test_features, loaded_y: random_test_labels, loaded_keep_prob: 1.0})\n",
    "        helper.display_image_predictions(random_test_features, random_test_labels, random_test_predictions)\n",
    "\n",
    "\n",
    "test_model()"
   ]
  },
  {
   "cell_type": "markdown",
   "metadata": {},
   "source": [
    "## Why 50-80% Accuracy?\n",
    "You might be wondering why you can't get an accuracy any higher. First things first, 50% isn't bad for a simple CNN.  Pure guessing would get you 10% accuracy. However, you might notice people are getting scores [well above 80%](http://rodrigob.github.io/are_we_there_yet/build/classification_datasets_results.html#43494641522d3130).  That's because we haven't taught you all there is to know about neural networks. We still need to cover a few more techniques.\n",
    "## Submitting This Project\n",
    "When submitting this project, make sure to run all the cells before saving the notebook.  Save the notebook file as \"dlnd_image_classification.ipynb\" and save it as a HTML file under \"File\" -> \"Download as\".  Include the \"helper.py\" and \"problem_unittests.py\" files in your submission."
   ]
  }
 ],
 "metadata": {
  "kernelspec": {
   "display_name": "Python 3",
   "language": "python",
   "name": "python3"
  },
  "language_info": {
   "codemirror_mode": {
    "name": "ipython",
    "version": 3
   },
   "file_extension": ".py",
   "mimetype": "text/x-python",
   "name": "python",
   "nbconvert_exporter": "python",
   "pygments_lexer": "ipython3",
   "version": "3.5.2"
  }
 },
 "nbformat": 4,
 "nbformat_minor": 1
}
