{
 "cells": [
  {
   "cell_type": "markdown",
   "metadata": {
    "collapsed": true
   },
   "source": [
    "# Language Translation\n",
    "In this project, you’re going to take a peek into the realm of neural network machine translation.  You’ll be training a sequence to sequence model on a dataset of English and French sentences that can translate new sentences from English to French.\n",
    "## Get the Data\n",
    "Since translating the whole language of English to French will take lots of time to train, we have provided you with a small portion of the English corpus."
   ]
  },
  {
   "cell_type": "code",
   "execution_count": 1,
   "metadata": {
    "collapsed": true
   },
   "outputs": [],
   "source": [
    "\"\"\"\n",
    "DON'T MODIFY ANYTHING IN THIS CELL\n",
    "\"\"\"\n",
    "import helper\n",
    "import problem_unittests as tests\n",
    "\n",
    "source_path = 'data/small_vocab_en'\n",
    "target_path = 'data/small_vocab_fr'\n",
    "source_text = helper.load_data(source_path)\n",
    "target_text = helper.load_data(target_path)"
   ]
  },
  {
   "cell_type": "markdown",
   "metadata": {},
   "source": [
    "## Explore the Data\n",
    "Play around with view_sentence_range to view different parts of the data."
   ]
  },
  {
   "cell_type": "code",
   "execution_count": 2,
   "metadata": {},
   "outputs": [
    {
     "name": "stdout",
     "output_type": "stream",
     "text": [
      "Dataset Stats\n",
      "Roughly the number of unique words: 227\n",
      "Number of sentences: 137861\n",
      "Average number of words in a sentence: 13.225277634719028\n",
      "\n",
      "English sentences 0 to 10:\n",
      "new jersey is sometimes quiet during autumn , and it is snowy in april .\n",
      "the united states is usually chilly during july , and it is usually freezing in november .\n",
      "california is usually quiet during march , and it is usually hot in june .\n",
      "the united states is sometimes mild during june , and it is cold in september .\n",
      "your least liked fruit is the grape , but my least liked is the apple .\n",
      "his favorite fruit is the orange , but my favorite is the grape .\n",
      "paris is relaxing during december , but it is usually chilly in july .\n",
      "new jersey is busy during spring , and it is never hot in march .\n",
      "our least liked fruit is the lemon , but my least liked is the grape .\n",
      "the united states is sometimes busy during january , and it is sometimes warm in november .\n",
      "\n",
      "French sentences 0 to 10:\n",
      "new jersey est parfois calme pendant l' automne , et il est neigeux en avril .\n",
      "les états-unis est généralement froid en juillet , et il gèle habituellement en novembre .\n",
      "california est généralement calme en mars , et il est généralement chaud en juin .\n",
      "les états-unis est parfois légère en juin , et il fait froid en septembre .\n",
      "votre moins aimé fruit est le raisin , mais mon moins aimé est la pomme .\n",
      "son fruit préféré est l'orange , mais mon préféré est le raisin .\n",
      "paris est relaxant en décembre , mais il est généralement froid en juillet .\n",
      "new jersey est occupé au printemps , et il est jamais chaude en mars .\n",
      "notre fruit est moins aimé le citron , mais mon moins aimé est le raisin .\n",
      "les états-unis est parfois occupé en janvier , et il est parfois chaud en novembre .\n"
     ]
    }
   ],
   "source": [
    "view_sentence_range = (0, 10)\n",
    "\n",
    "\"\"\"\n",
    "DON'T MODIFY ANYTHING IN THIS CELL\n",
    "\"\"\"\n",
    "import numpy as np\n",
    "\n",
    "print('Dataset Stats')\n",
    "print('Roughly the number of unique words: {}'.format(len({word: None for word in source_text.split()})))\n",
    "\n",
    "sentences = source_text.split('\\n')\n",
    "word_counts = [len(sentence.split()) for sentence in sentences]\n",
    "print('Number of sentences: {}'.format(len(sentences)))\n",
    "print('Average number of words in a sentence: {}'.format(np.average(word_counts)))\n",
    "\n",
    "print()\n",
    "print('English sentences {} to {}:'.format(*view_sentence_range))\n",
    "print('\\n'.join(source_text.split('\\n')[view_sentence_range[0]:view_sentence_range[1]]))\n",
    "print()\n",
    "print('French sentences {} to {}:'.format(*view_sentence_range))\n",
    "print('\\n'.join(target_text.split('\\n')[view_sentence_range[0]:view_sentence_range[1]]))"
   ]
  },
  {
   "cell_type": "markdown",
   "metadata": {},
   "source": [
    "## Implement Preprocessing Function\n",
    "### Text to Word Ids\n",
    "As you did with other RNNs, you must turn the text into a number so the computer can understand it. In the function `text_to_ids()`, you'll turn `source_text` and `target_text` from words to ids.  However, you need to add the `<EOS>` word id at the end of `target_text`.  This will help the neural network predict when the sentence should end.\n",
    "\n",
    "You can get the `<EOS>` word id by doing:\n",
    "```python\n",
    "target_vocab_to_int['<EOS>']\n",
    "```\n",
    "You can get other word ids using `source_vocab_to_int` and `target_vocab_to_int`."
   ]
  },
  {
   "cell_type": "code",
   "execution_count": 12,
   "metadata": {},
   "outputs": [
    {
     "name": "stdout",
     "output_type": "stream",
     "text": [
      "Tests Passed\n"
     ]
    }
   ],
   "source": [
    "def text_to_ids(source_text, target_text, source_vocab_to_int, target_vocab_to_int):\n",
    "    \"\"\"\n",
    "    Convert source and target text to proper word ids\n",
    "    :param source_text: String that contains all the source text.\n",
    "    :param target_text: String that contains all the target text.\n",
    "    :param source_vocab_to_int: Dictionary to go from the source words to an id\n",
    "    :param target_vocab_to_int: Dictionary to go from the target words to an id\n",
    "    :return: A tuple of lists (source_id_text, target_id_text)\n",
    "    \"\"\"\n",
    "    # TODO: Implement Function\n",
    "    source_id_text = [[source_vocab_to_int[word] for word in sentence.split()]\n",
    "                      for sentence in source_text.split('\\n')]\n",
    "    target_id_text = [[target_vocab_to_int[word] for word in sentence.split()] + [target_vocab_to_int['<EOS>']]\n",
    "                      for sentence in target_text.split('\\n')]\n",
    "    return source_id_text, target_id_text\n",
    "\n",
    "\"\"\"\n",
    "DON'T MODIFY ANYTHING IN THIS CELL THAT IS BELOW THIS LINE\n",
    "\"\"\"\n",
    "tests.test_text_to_ids(text_to_ids)"
   ]
  },
  {
   "cell_type": "markdown",
   "metadata": {},
   "source": [
    "### Preprocess all the data and save it\n",
    "Running the code cell below will preprocess all the data and save it to file."
   ]
  },
  {
   "cell_type": "code",
   "execution_count": 13,
   "metadata": {
    "collapsed": true
   },
   "outputs": [],
   "source": [
    "\"\"\"\n",
    "DON'T MODIFY ANYTHING IN THIS CELL\n",
    "\"\"\"\n",
    "helper.preprocess_and_save_data(source_path, target_path, text_to_ids)"
   ]
  },
  {
   "cell_type": "markdown",
   "metadata": {},
   "source": [
    "# Check Point\n",
    "This is your first checkpoint. If you ever decide to come back to this notebook or have to restart the notebook, you can start from here. The preprocessed data has been saved to disk."
   ]
  },
  {
   "cell_type": "code",
   "execution_count": 1,
   "metadata": {},
   "outputs": [],
   "source": [
    "\"\"\"\n",
    "DON'T MODIFY ANYTHING IN THIS CELL\n",
    "\"\"\"\n",
    "import numpy as np\n",
    "import helper\n",
    "import problem_unittests as tests\n",
    "\n",
    "(source_int_text, target_int_text), (source_vocab_to_int, target_vocab_to_int), _ = helper.load_preprocess()"
   ]
  },
  {
   "cell_type": "markdown",
   "metadata": {},
   "source": [
    "### Check the Version of TensorFlow and Access to GPU\n",
    "This will check to make sure you have the correct version of TensorFlow and access to a GPU"
   ]
  },
  {
   "cell_type": "code",
   "execution_count": 2,
   "metadata": {},
   "outputs": [
    {
     "name": "stdout",
     "output_type": "stream",
     "text": [
      "TensorFlow Version: 1.1.0\n",
      "Default GPU Device: /gpu:0\n"
     ]
    }
   ],
   "source": [
    "\"\"\"\n",
    "DON'T MODIFY ANYTHING IN THIS CELL\n",
    "\"\"\"\n",
    "from distutils.version import LooseVersion\n",
    "import warnings\n",
    "import tensorflow as tf\n",
    "from tensorflow.python.layers.core import Dense\n",
    "\n",
    "# Check TensorFlow Version\n",
    "assert LooseVersion(tf.__version__) >= LooseVersion('1.1'), 'Please use TensorFlow version 1.1 or newer'\n",
    "print('TensorFlow Version: {}'.format(tf.__version__))\n",
    "\n",
    "# Check for a GPU\n",
    "if not tf.test.gpu_device_name():\n",
    "    warnings.warn('No GPU found. Please use a GPU to train your neural network.')\n",
    "else:\n",
    "    print('Default GPU Device: {}'.format(tf.test.gpu_device_name()))"
   ]
  },
  {
   "cell_type": "markdown",
   "metadata": {},
   "source": [
    "## Build the Neural Network\n",
    "You'll build the components necessary to build a Sequence-to-Sequence model by implementing the following functions below:\n",
    "- `model_inputs`\n",
    "- `process_decoder_input`\n",
    "- `encoding_layer`\n",
    "- `decoding_layer_train`\n",
    "- `decoding_layer_infer`\n",
    "- `decoding_layer`\n",
    "- `seq2seq_model`\n",
    "\n",
    "### Input\n",
    "Implement the `model_inputs()` function to create TF Placeholders for the Neural Network. It should create the following placeholders:\n",
    "\n",
    "- Input text placeholder named \"input\" using the TF Placeholder name parameter with rank 2.\n",
    "- Targets placeholder with rank 2.\n",
    "- Learning rate placeholder with rank 0.\n",
    "- Keep probability placeholder named \"keep_prob\" using the TF Placeholder name parameter with rank 0.\n",
    "- Target sequence length placeholder named \"target_sequence_length\" with rank 1\n",
    "- Max target sequence length tensor named \"max_target_len\" getting its value from applying tf.reduce_max on the target_sequence_length placeholder. Rank 0.\n",
    "- Source sequence length placeholder named \"source_sequence_length\" with rank 1\n",
    "\n",
    "Return the placeholders in the following the tuple (input, targets, learning rate, keep probability, target sequence length, max target sequence length, source sequence length)"
   ]
  },
  {
   "cell_type": "code",
   "execution_count": 3,
   "metadata": {},
   "outputs": [
    {
     "name": "stdout",
     "output_type": "stream",
     "text": [
      "Tests Passed\n"
     ]
    }
   ],
   "source": [
    "def model_inputs():\n",
    "    \"\"\"\n",
    "    Create TF Placeholders for input, targets, learning rate, and lengths of source and target sequences.\n",
    "    :return: Tuple (input, targets, learning rate, keep probability, target sequence length,\n",
    "    max target sequence length, source sequence length)\n",
    "    \"\"\"\n",
    "    # TODO: Implement Function\n",
    "    inputs = tf.placeholder(tf.int32, (None, None), name=\"input\")\n",
    "    targets = tf.placeholder(tf.int32, (None, None), name=\"target\")\n",
    "    lr = tf.placeholder(tf.float32, name=\"lr\")\n",
    "    keep_prob = tf.placeholder(tf.float32, name=\"keep_prob\")\n",
    "    target_seq_len = tf.placeholder(tf.int32, (None,), name=\"target_sequence_length\")\n",
    "    max_target_len = tf.reduce_max(target_seq_len, name=\"max_target_len\")\n",
    "    source_seq_len = tf.placeholder(tf.int32, (None,), name=\"source_sequence_length\")\n",
    "    return inputs, targets, lr, keep_prob, target_seq_len, max_target_len, source_seq_len\n",
    "\n",
    "\n",
    "\"\"\"\n",
    "DON'T MODIFY ANYTHING IN THIS CELL THAT IS BELOW THIS LINE\n",
    "\"\"\"\n",
    "tests.test_model_inputs(model_inputs)"
   ]
  },
  {
   "cell_type": "markdown",
   "metadata": {},
   "source": [
    "### Process Decoder Input\n",
    "Implement `process_decoder_input` by removing the last word id from each batch in `target_data` and concat the GO ID to the begining of each batch."
   ]
  },
  {
   "cell_type": "code",
   "execution_count": 4,
   "metadata": {},
   "outputs": [
    {
     "name": "stdout",
     "output_type": "stream",
     "text": [
      "Tests Passed\n"
     ]
    }
   ],
   "source": [
    "def process_decoder_input(target_data, target_vocab_to_int, batch_size):\n",
    "    \"\"\"\n",
    "    Preprocess target data for encoding\n",
    "    :param target_data: Target Placehoder\n",
    "    :param target_vocab_to_int: Dictionary to go from the target words to an id\n",
    "    :param batch_size: Batch Size\n",
    "    :return: Preprocessed target data\n",
    "    \"\"\"\n",
    "    # TODO: Implement Function\n",
    "    ending_removed = tf.strided_slice(target_data, [0,0], [batch_size, -1], [1,1])\n",
    "    processed_target_data = tf.concat([tf.fill([batch_size, 1], target_vocab_to_int['<GO>']), ending_removed], 1) \n",
    "    return processed_target_data\n",
    "\n",
    "\"\"\"\n",
    "DON'T MODIFY ANYTHING IN THIS CELL THAT IS BELOW THIS LINE\n",
    "\"\"\"\n",
    "tests.test_process_encoding_input(process_decoder_input)"
   ]
  },
  {
   "cell_type": "markdown",
   "metadata": {},
   "source": [
    "### Encoding\n",
    "Implement `encoding_layer()` to create a Encoder RNN layer:\n",
    " * Embed the encoder input using [`tf.contrib.layers.embed_sequence`](https://www.tensorflow.org/api_docs/python/tf/contrib/layers/embed_sequence)\n",
    " * Construct a [stacked](https://github.com/tensorflow/tensorflow/blob/6947f65a374ebf29e74bb71e36fd82760056d82c/tensorflow/docs_src/tutorials/recurrent.md#stacking-multiple-lstms) [`tf.contrib.rnn.LSTMCell`](https://www.tensorflow.org/api_docs/python/tf/contrib/rnn/LSTMCell) wrapped in a [`tf.contrib.rnn.DropoutWrapper`](https://www.tensorflow.org/api_docs/python/tf/contrib/rnn/DropoutWrapper)\n",
    " * Pass cell and embedded input to [`tf.nn.dynamic_rnn()`](https://www.tensorflow.org/api_docs/python/tf/nn/dynamic_rnn)"
   ]
  },
  {
   "cell_type": "code",
   "execution_count": 5,
   "metadata": {
    "scrolled": false
   },
   "outputs": [
    {
     "name": "stdout",
     "output_type": "stream",
     "text": [
      "Tests Passed\n"
     ]
    }
   ],
   "source": [
    "from imp import reload\n",
    "reload(tests)\n",
    "\n",
    "def encoding_layer(rnn_inputs, rnn_size, num_layers, keep_prob, \n",
    "                   source_sequence_length, source_vocab_size, \n",
    "                   encoding_embedding_size):\n",
    "    \"\"\"\n",
    "    Create encoding layer\n",
    "    :param rnn_inputs: Inputs for the RNN\n",
    "    :param rnn_size: RNN Size\n",
    "    :param num_layers: Number of layers\n",
    "    :param keep_prob: Dropout keep probability\n",
    "    :param source_sequence_length: a list of the lengths of each sequence in the batch\n",
    "    :param source_vocab_size: vocabulary size of source data\n",
    "    :param encoding_embedding_size: embedding size of source data\n",
    "    :return: tuple (RNN output, RNN state)\n",
    "    \"\"\"\n",
    "    # TODO: Implement Function\n",
    "    embed = tf.contrib.layers.embed_sequence(rnn_inputs, source_vocab_size, encoding_embedding_size,\n",
    "                                             initializer=tf.random_uniform_initializer)\n",
    "    \n",
    "    def get_lstm(rnn_size, keep_prob):\n",
    "        lstm = tf.contrib.rnn.LSTMCell(rnn_size)\n",
    "        lstm_dropout = tf.contrib.rnn.DropoutWrapper(lstm, output_keep_prob=keep_prob)\n",
    "        return lstm_dropout\n",
    "    \n",
    "    rnn = tf.contrib.rnn.MultiRNNCell([get_lstm(rnn_size, keep_prob) for _ in range(num_layers)])\n",
    "    output, final_state = tf.nn.dynamic_rnn(rnn, embed, sequence_length=source_sequence_length, dtype=tf.float32)\n",
    "    return output, final_state\n",
    "\n",
    "\"\"\"\n",
    "DON'T MODIFY ANYTHING IN THIS CELL THAT IS BELOW THIS LINE\n",
    "\"\"\"\n",
    "tests.test_encoding_layer(encoding_layer)"
   ]
  },
  {
   "cell_type": "markdown",
   "metadata": {},
   "source": [
    "### Decoding - Training\n",
    "Create a training decoding layer:\n",
    "* Create a [`tf.contrib.seq2seq.TrainingHelper`](https://www.tensorflow.org/api_docs/python/tf/contrib/seq2seq/TrainingHelper) \n",
    "* Create a [`tf.contrib.seq2seq.BasicDecoder`](https://www.tensorflow.org/api_docs/python/tf/contrib/seq2seq/BasicDecoder)\n",
    "* Obtain the decoder outputs from [`tf.contrib.seq2seq.dynamic_decode`](https://www.tensorflow.org/api_docs/python/tf/contrib/seq2seq/dynamic_decode)"
   ]
  },
  {
   "cell_type": "code",
   "execution_count": 6,
   "metadata": {},
   "outputs": [
    {
     "name": "stdout",
     "output_type": "stream",
     "text": [
      "Tests Passed\n"
     ]
    }
   ],
   "source": [
    "\n",
    "def decoding_layer_train(encoder_state, dec_cell, dec_embed_input, \n",
    "                         target_sequence_length, max_summary_length, \n",
    "                         output_layer, keep_prob):\n",
    "    \"\"\"\n",
    "    Create a decoding layer for training\n",
    "    :param encoder_state: Encoder State\n",
    "    :param dec_cell: Decoder RNN Cell\n",
    "    :param dec_embed_input: Decoder embedded input\n",
    "    :param target_sequence_length: The lengths of each sequence in the target batch\n",
    "    :param max_summary_length: The length of the longest sequence in the batch\n",
    "    :param output_layer: Function to apply the output layer\n",
    "    :param keep_prob: Dropout keep probability\n",
    "    :return: BasicDecoderOutput containing training logits and sample_id\n",
    "    \"\"\"\n",
    "    # TODO: Implement Function\n",
    "    training_helper = tf.contrib.seq2seq.TrainingHelper(dec_embed_input, target_sequence_length)\n",
    "    basic_decoder = tf.contrib.seq2seq.BasicDecoder(dec_cell, training_helper, encoder_state, output_layer)\n",
    "    output, state = tf.contrib.seq2seq.dynamic_decode(basic_decoder, maximum_iterations=max_summary_length)\n",
    "    return output\n",
    "\n",
    "\n",
    "\n",
    "\"\"\"\n",
    "DON'T MODIFY ANYTHING IN THIS CELL THAT IS BELOW THIS LINE\n",
    "\"\"\"\n",
    "tests.test_decoding_layer_train(decoding_layer_train)"
   ]
  },
  {
   "cell_type": "markdown",
   "metadata": {},
   "source": [
    "### Decoding - Inference\n",
    "Create inference decoder:\n",
    "* Create a [`tf.contrib.seq2seq.GreedyEmbeddingHelper`](https://www.tensorflow.org/api_docs/python/tf/contrib/seq2seq/GreedyEmbeddingHelper)\n",
    "* Create a [`tf.contrib.seq2seq.BasicDecoder`](https://www.tensorflow.org/api_docs/python/tf/contrib/seq2seq/BasicDecoder)\n",
    "* Obtain the decoder outputs from [`tf.contrib.seq2seq.dynamic_decode`](https://www.tensorflow.org/api_docs/python/tf/contrib/seq2seq/dynamic_decode)"
   ]
  },
  {
   "cell_type": "code",
   "execution_count": 8,
   "metadata": {
    "scrolled": true
   },
   "outputs": [
    {
     "name": "stdout",
     "output_type": "stream",
     "text": [
      "Tests Passed\n"
     ]
    }
   ],
   "source": [
    "def decoding_layer_infer(encoder_state, dec_cell, dec_embeddings, start_of_sequence_id,\n",
    "                         end_of_sequence_id, max_target_sequence_length,\n",
    "                         vocab_size, output_layer, batch_size, keep_prob):\n",
    "    \"\"\"\n",
    "    Create a decoding layer for inference\n",
    "    :param encoder_state: Encoder state\n",
    "    :param dec_cell: Decoder RNN Cell\n",
    "    :param dec_embeddings: Decoder embeddings\n",
    "    :param start_of_sequence_id: GO ID\n",
    "    :param end_of_sequence_id: EOS Id\n",
    "    :param max_target_sequence_length: Maximum length of target sequences\n",
    "    :param vocab_size: Size of decoder/target vocabulary\n",
    "    :param decoding_scope: TenorFlow Variable Scope for decoding\n",
    "    :param output_layer: Function to apply the output layer\n",
    "    :param batch_size: Batch size\n",
    "    :param keep_prob: Dropout keep probability\n",
    "    :return: BasicDecoderOutput containing inference logits and sample_id\n",
    "    \"\"\"\n",
    "    # TODO: Implement Function\n",
    "    start_tokens = tf.tile(tf.constant([start_of_sequence_id], dtype=tf.int32), [batch_size], name=\"start_tokens\")\n",
    "    inference_helper = tf.contrib.seq2seq.GreedyEmbeddingHelper(dec_embeddings, \n",
    "                                                                start_tokens, \n",
    "                                                                end_of_sequence_id)\n",
    "    basic_decoder = tf.contrib.seq2seq.BasicDecoder(dec_cell, inference_helper, encoder_state, output_layer)\n",
    "    output, state = tf.contrib.seq2seq.dynamic_decode(basic_decoder, maximum_iterations=max_target_sequence_length)\n",
    "    \n",
    "    return output\n",
    "\n",
    "\n",
    "\n",
    "\"\"\"\n",
    "DON'T MODIFY ANYTHING IN THIS CELL THAT IS BELOW THIS LINE\n",
    "\"\"\"\n",
    "tests.test_decoding_layer_infer(decoding_layer_infer)"
   ]
  },
  {
   "cell_type": "markdown",
   "metadata": {},
   "source": [
    "### Build the Decoding Layer\n",
    "Implement `decoding_layer()` to create a Decoder RNN layer.\n",
    "\n",
    "* Embed the target sequences\n",
    "* Construct the decoder LSTM cell (just like you constructed the encoder cell above)\n",
    "* Create an output layer to map the outputs of the decoder to the elements of our vocabulary\n",
    "* Use the your `decoding_layer_train(encoder_state, dec_cell, dec_embed_input, target_sequence_length, max_target_sequence_length, output_layer, keep_prob)` function to get the training logits.\n",
    "* Use your `decoding_layer_infer(encoder_state, dec_cell, dec_embeddings, start_of_sequence_id, end_of_sequence_id, max_target_sequence_length, vocab_size, output_layer, batch_size, keep_prob)` function to get the inference logits.\n",
    "\n",
    "Note: You'll need to use [tf.variable_scope](https://www.tensorflow.org/api_docs/python/tf/variable_scope) to share variables between training and inference."
   ]
  },
  {
   "cell_type": "code",
   "execution_count": 9,
   "metadata": {},
   "outputs": [
    {
     "name": "stdout",
     "output_type": "stream",
     "text": [
      "Tests Passed\n"
     ]
    }
   ],
   "source": [
    "def decoding_layer(dec_input, encoder_state,\n",
    "                   target_sequence_length, max_target_sequence_length,\n",
    "                   rnn_size,\n",
    "                   num_layers, target_vocab_to_int, target_vocab_size,\n",
    "                   batch_size, keep_prob, decoding_embedding_size):\n",
    "    \"\"\"\n",
    "    Create decoding layer\n",
    "    :param dec_input: Decoder input\n",
    "    :param encoder_state: Encoder state\n",
    "    :param target_sequence_length: The lengths of each sequence in the target batch\n",
    "    :param max_target_sequence_length: Maximum length of target sequences\n",
    "    :param rnn_size: RNN Size\n",
    "    :param num_layers: Number of layers\n",
    "    :param target_vocab_to_int: Dictionary to go from the target words to an id\n",
    "    :param target_vocab_size: Size of target vocabulary\n",
    "    :param batch_size: The size of the batch\n",
    "    :param keep_prob: Dropout keep probability\n",
    "    :param decoding_embedding_size: Decoding embedding size\n",
    "    :return: Tuple of (Training BasicDecoderOutput, Inference BasicDecoderOutput)\n",
    "    \"\"\"\n",
    "    # TODO: Implement Function\n",
    "    dec_embeddings = tf.Variable(tf.random_uniform([target_vocab_size, decoding_embedding_size], -1, 1))\n",
    "    dec_embed_input = tf.nn.embedding_lookup(dec_embeddings, dec_input)\n",
    "    \n",
    "    def get_lstm(rnn_size, keep_prob):\n",
    "        lstm = tf.contrib.rnn.LSTMCell(rnn_size)\n",
    "        lstm_dropout = tf.contrib.rnn.DropoutWrapper(lstm, output_keep_prob=keep_prob)\n",
    "        return lstm_dropout\n",
    "    \n",
    "    dec_cell = tf.contrib.rnn.MultiRNNCell([get_lstm(rnn_size, keep_prob) for _ in range(num_layers)])\n",
    "    \n",
    "    output_layer = Dense(target_vocab_size, kernel_initializer=tf.truncated_normal_initializer(stddev=0.1))\n",
    "    \n",
    "    with tf.variable_scope(\"decode\"):\n",
    "        training_decoder_output = decoding_layer_train(encoder_state, dec_cell, dec_embed_input,\n",
    "                                                       target_sequence_length, max_target_sequence_length,\n",
    "                                                       output_layer, keep_prob)\n",
    "    with tf.variable_scope(\"decode\", reuse=True):\n",
    "        inference_decoder_output = decoding_layer_infer(encoder_state, dec_cell, dec_embeddings,\n",
    "                                                        target_vocab_to_int['<GO>'], target_vocab_to_int['<EOS>'], \n",
    "                                                        max_target_sequence_length, target_vocab_size, output_layer, \n",
    "                                                        batch_size, keep_prob)\n",
    "        \n",
    "    return training_decoder_output, inference_decoder_output\n",
    "\n",
    "\n",
    "\n",
    "\"\"\"\n",
    "DON'T MODIFY ANYTHING IN THIS CELL THAT IS BELOW THIS LINE\n",
    "\"\"\"\n",
    "tests.test_decoding_layer(decoding_layer)"
   ]
  },
  {
   "cell_type": "markdown",
   "metadata": {},
   "source": [
    "### Build the Neural Network\n",
    "Apply the functions you implemented above to:\n",
    "\n",
    "- Encode the input using your `encoding_layer(rnn_inputs, rnn_size, num_layers, keep_prob,  source_sequence_length, source_vocab_size, encoding_embedding_size)`.\n",
    "- Process target data using your `process_decoder_input(target_data, target_vocab_to_int, batch_size)` function.\n",
    "- Decode the encoded input using your `decoding_layer(dec_input, enc_state, target_sequence_length, max_target_sentence_length, rnn_size, num_layers, target_vocab_to_int, target_vocab_size, batch_size, keep_prob, dec_embedding_size)` function."
   ]
  },
  {
   "cell_type": "code",
   "execution_count": 10,
   "metadata": {},
   "outputs": [
    {
     "name": "stdout",
     "output_type": "stream",
     "text": [
      "Tests Passed\n"
     ]
    }
   ],
   "source": [
    "def seq2seq_model(input_data, target_data, keep_prob, batch_size,\n",
    "                  source_sequence_length, target_sequence_length,\n",
    "                  max_target_sentence_length,\n",
    "                  source_vocab_size, target_vocab_size,\n",
    "                  enc_embedding_size, dec_embedding_size,\n",
    "                  rnn_size, num_layers, target_vocab_to_int):\n",
    "    \"\"\"\n",
    "    Build the Sequence-to-Sequence part of the neural network\n",
    "    :param input_data: Input placeholder\n",
    "    :param target_data: Target placeholder\n",
    "    :param keep_prob: Dropout keep probability placeholder\n",
    "    :param batch_size: Batch Size\n",
    "    :param source_sequence_length: Sequence Lengths of source sequences in the batch\n",
    "    :param target_sequence_length: Sequence Lengths of target sequences in the batch\n",
    "    :param source_vocab_size: Source vocabulary size\n",
    "    :param target_vocab_size: Target vocabulary size\n",
    "    :param enc_embedding_size: Decoder embedding size\n",
    "    :param dec_embedding_size: Encoder embedding size\n",
    "    :param rnn_size: RNN Size\n",
    "    :param num_layers: Number of layers\n",
    "    :param target_vocab_to_int: Dictionary to go from the target words to an id\n",
    "    :return: Tuple of (Training BasicDecoderOutput, Inference BasicDecoderOutput)\n",
    "    \"\"\"\n",
    "    # TODO: Implement Function\n",
    "    _, enc_state = encoding_layer(input_data, rnn_size, num_layers, keep_prob, \n",
    "                                  source_sequence_length, source_vocab_size, enc_embedding_size)\n",
    "    dec_input = process_decoder_input(target_data, target_vocab_to_int, batch_size)\n",
    "    train_decoder_output, inference_decoder_output = decoding_layer(dec_input, enc_state, \n",
    "                                                                    target_sequence_length, \n",
    "                                                                    max_target_sentence_length, rnn_size, \n",
    "                                                                    num_layers, target_vocab_to_int, \n",
    "                                                                    target_vocab_size, batch_size, \n",
    "                                                                    keep_prob, dec_embedding_size)\n",
    "    return train_decoder_output, inference_decoder_output\n",
    "\n",
    "\n",
    "\"\"\"\n",
    "DON'T MODIFY ANYTHING IN THIS CELL THAT IS BELOW THIS LINE\n",
    "\"\"\"\n",
    "tests.test_seq2seq_model(seq2seq_model)"
   ]
  },
  {
   "cell_type": "markdown",
   "metadata": {},
   "source": [
    "## Neural Network Training\n",
    "### Hyperparameters\n",
    "Tune the following parameters:\n",
    "\n",
    "- Set `epochs` to the number of epochs.\n",
    "- Set `batch_size` to the batch size.\n",
    "- Set `rnn_size` to the size of the RNNs.\n",
    "- Set `num_layers` to the number of layers.\n",
    "- Set `encoding_embedding_size` to the size of the embedding for the encoder.\n",
    "- Set `decoding_embedding_size` to the size of the embedding for the decoder.\n",
    "- Set `learning_rate` to the learning rate.\n",
    "- Set `keep_probability` to the Dropout keep probability\n",
    "- Set `display_step` to state how many steps between each debug output statement"
   ]
  },
  {
   "cell_type": "code",
   "execution_count": 11,
   "metadata": {},
   "outputs": [],
   "source": [
    "# Number of Epochs\n",
    "epochs = 10\n",
    "# Batch Size\n",
    "batch_size = 128\n",
    "# RNN Size\n",
    "rnn_size = 256\n",
    "# Number of Layers\n",
    "num_layers = 2\n",
    "# Embedding Size\n",
    "encoding_embedding_size = 200\n",
    "decoding_embedding_size = 200\n",
    "# Learning Rate\n",
    "learning_rate = 0.01\n",
    "# Dropout Keep Probability\n",
    "keep_probability = 0.75\n",
    "display_step = 10"
   ]
  },
  {
   "cell_type": "markdown",
   "metadata": {},
   "source": [
    "### Build the Graph\n",
    "Build the graph using the neural network you implemented."
   ]
  },
  {
   "cell_type": "code",
   "execution_count": 12,
   "metadata": {},
   "outputs": [],
   "source": [
    "\"\"\"\n",
    "DON'T MODIFY ANYTHING IN THIS CELL\n",
    "\"\"\"\n",
    "save_path = 'checkpoints/dev'\n",
    "(source_int_text, target_int_text), (source_vocab_to_int, target_vocab_to_int), _ = helper.load_preprocess()\n",
    "max_target_sentence_length = max([len(sentence) for sentence in source_int_text])\n",
    "\n",
    "train_graph = tf.Graph()\n",
    "with train_graph.as_default():\n",
    "    input_data, targets, lr, keep_prob, target_sequence_length, max_target_sequence_length, source_sequence_length = model_inputs()\n",
    "\n",
    "    #sequence_length = tf.placeholder_with_default(max_target_sentence_length, None, name='sequence_length')\n",
    "    input_shape = tf.shape(input_data)\n",
    "\n",
    "    train_logits, inference_logits = seq2seq_model(tf.reverse(input_data, [-1]),\n",
    "                                                   targets,\n",
    "                                                   keep_prob,\n",
    "                                                   batch_size,\n",
    "                                                   source_sequence_length,\n",
    "                                                   target_sequence_length,\n",
    "                                                   max_target_sequence_length,\n",
    "                                                   len(source_vocab_to_int),\n",
    "                                                   len(target_vocab_to_int),\n",
    "                                                   encoding_embedding_size,\n",
    "                                                   decoding_embedding_size,\n",
    "                                                   rnn_size,\n",
    "                                                   num_layers,\n",
    "                                                   target_vocab_to_int)\n",
    "\n",
    "\n",
    "    training_logits = tf.identity(train_logits.rnn_output, name='logits')\n",
    "    inference_logits = tf.identity(inference_logits.sample_id, name='predictions')\n",
    "\n",
    "    masks = tf.sequence_mask(target_sequence_length, max_target_sequence_length, dtype=tf.float32, name='masks')\n",
    "\n",
    "    with tf.name_scope(\"optimization\"):\n",
    "        # Loss function\n",
    "        cost = tf.contrib.seq2seq.sequence_loss(\n",
    "            training_logits,\n",
    "            targets,\n",
    "            masks)\n",
    "\n",
    "        # Optimizer\n",
    "        optimizer = tf.train.AdamOptimizer(lr)\n",
    "\n",
    "        # Gradient Clipping\n",
    "        gradients = optimizer.compute_gradients(cost)\n",
    "        capped_gradients = [(tf.clip_by_value(grad, -1., 1.), var) for grad, var in gradients if grad is not None]\n",
    "        train_op = optimizer.apply_gradients(capped_gradients)\n"
   ]
  },
  {
   "cell_type": "markdown",
   "metadata": {},
   "source": [
    "Batch and pad the source and target sequences"
   ]
  },
  {
   "cell_type": "code",
   "execution_count": 13,
   "metadata": {},
   "outputs": [],
   "source": [
    "\"\"\"\n",
    "DON'T MODIFY ANYTHING IN THIS CELL\n",
    "\"\"\"\n",
    "def pad_sentence_batch(sentence_batch, pad_int):\n",
    "    \"\"\"Pad sentences with <PAD> so that each sentence of a batch has the same length\"\"\"\n",
    "    max_sentence = max([len(sentence) for sentence in sentence_batch])\n",
    "    return [sentence + [pad_int] * (max_sentence - len(sentence)) for sentence in sentence_batch]\n",
    "\n",
    "\n",
    "def get_batches(sources, targets, batch_size, source_pad_int, target_pad_int):\n",
    "    \"\"\"Batch targets, sources, and the lengths of their sentences together\"\"\"\n",
    "    for batch_i in range(0, len(sources)//batch_size):\n",
    "        start_i = batch_i * batch_size\n",
    "\n",
    "        # Slice the right amount for the batch\n",
    "        sources_batch = sources[start_i:start_i + batch_size]\n",
    "        targets_batch = targets[start_i:start_i + batch_size]\n",
    "\n",
    "        # Pad\n",
    "        pad_sources_batch = np.array(pad_sentence_batch(sources_batch, source_pad_int))\n",
    "        pad_targets_batch = np.array(pad_sentence_batch(targets_batch, target_pad_int))\n",
    "\n",
    "        # Need the lengths for the _lengths parameters\n",
    "        pad_targets_lengths = []\n",
    "        for target in pad_targets_batch:\n",
    "            pad_targets_lengths.append(len(target))\n",
    "\n",
    "        pad_source_lengths = []\n",
    "        for source in pad_sources_batch:\n",
    "            pad_source_lengths.append(len(source))\n",
    "\n",
    "        yield pad_sources_batch, pad_targets_batch, pad_source_lengths, pad_targets_lengths\n"
   ]
  },
  {
   "cell_type": "markdown",
   "metadata": {},
   "source": [
    "### Train\n",
    "Train the neural network on the preprocessed data. If you have a hard time getting a good loss, check the forms to see if anyone is having the same problem."
   ]
  },
  {
   "cell_type": "code",
   "execution_count": 14,
   "metadata": {
    "scrolled": true
   },
   "outputs": [
    {
     "name": "stdout",
     "output_type": "stream",
     "text": [
      "Epoch   0 Batch   10/1077 - Train Accuracy: 0.2488, Validation Accuracy: 0.3413, Loss: 3.3238\n",
      "Epoch   0 Batch   20/1077 - Train Accuracy: 0.2656, Validation Accuracy: 0.3285, Loss: 2.5138\n",
      "Epoch   0 Batch   30/1077 - Train Accuracy: 0.2602, Validation Accuracy: 0.3260, Loss: 1.8285\n",
      "Epoch   0 Batch   40/1077 - Train Accuracy: 0.2570, Validation Accuracy: 0.3338, Loss: 1.3864\n",
      "Epoch   0 Batch   50/1077 - Train Accuracy: 0.2613, Validation Accuracy: 0.3338, Loss: 1.1723\n",
      "Epoch   0 Batch   60/1077 - Train Accuracy: 0.3318, Validation Accuracy: 0.3327, Loss: 1.0156\n",
      "Epoch   0 Batch   70/1077 - Train Accuracy: 0.2373, Validation Accuracy: 0.3342, Loss: 0.9911\n",
      "Epoch   0 Batch   80/1077 - Train Accuracy: 0.2980, Validation Accuracy: 0.3686, Loss: 0.9519\n",
      "Epoch   0 Batch   90/1077 - Train Accuracy: 0.2652, Validation Accuracy: 0.3342, Loss: 0.9401\n",
      "Epoch   0 Batch  100/1077 - Train Accuracy: 0.2914, Validation Accuracy: 0.3608, Loss: 0.8849\n",
      "Epoch   0 Batch  110/1077 - Train Accuracy: 0.3129, Validation Accuracy: 0.3626, Loss: 0.8282\n",
      "Epoch   0 Batch  120/1077 - Train Accuracy: 0.2797, Validation Accuracy: 0.3540, Loss: 0.8629\n",
      "Epoch   0 Batch  130/1077 - Train Accuracy: 0.3504, Validation Accuracy: 0.3860, Loss: 0.7621\n",
      "Epoch   0 Batch  140/1077 - Train Accuracy: 0.2693, Validation Accuracy: 0.3899, Loss: 0.8526\n",
      "Epoch   0 Batch  150/1077 - Train Accuracy: 0.3519, Validation Accuracy: 0.3629, Loss: 0.7735\n",
      "Epoch   0 Batch  160/1077 - Train Accuracy: 0.3398, Validation Accuracy: 0.3817, Loss: 0.7860\n",
      "Epoch   0 Batch  170/1077 - Train Accuracy: 0.3176, Validation Accuracy: 0.3626, Loss: 0.8158\n",
      "Epoch   0 Batch  180/1077 - Train Accuracy: 0.3109, Validation Accuracy: 0.3651, Loss: 0.7957\n",
      "Epoch   0 Batch  190/1077 - Train Accuracy: 0.3613, Validation Accuracy: 0.4094, Loss: 0.7446\n",
      "Epoch   0 Batch  200/1077 - Train Accuracy: 0.3492, Validation Accuracy: 0.4197, Loss: 0.7869\n",
      "Epoch   0 Batch  210/1077 - Train Accuracy: 0.3936, Validation Accuracy: 0.4435, Loss: 0.7369\n",
      "Epoch   0 Batch  220/1077 - Train Accuracy: 0.3573, Validation Accuracy: 0.4631, Loss: 0.7714\n",
      "Epoch   0 Batch  230/1077 - Train Accuracy: 0.4382, Validation Accuracy: 0.4226, Loss: 0.7237\n",
      "Epoch   0 Batch  240/1077 - Train Accuracy: 0.3902, Validation Accuracy: 0.4457, Loss: 0.7079\n",
      "Epoch   0 Batch  250/1077 - Train Accuracy: 0.4258, Validation Accuracy: 0.4648, Loss: 0.6701\n",
      "Epoch   0 Batch  260/1077 - Train Accuracy: 0.4412, Validation Accuracy: 0.4492, Loss: 0.6772\n",
      "Epoch   0 Batch  270/1077 - Train Accuracy: 0.4211, Validation Accuracy: 0.4819, Loss: 0.7240\n",
      "Epoch   0 Batch  280/1077 - Train Accuracy: 0.4699, Validation Accuracy: 0.4922, Loss: 0.7097\n",
      "Epoch   0 Batch  290/1077 - Train Accuracy: 0.4590, Validation Accuracy: 0.5178, Loss: 0.7110\n",
      "Epoch   0 Batch  300/1077 - Train Accuracy: 0.4552, Validation Accuracy: 0.5124, Loss: 0.6911\n",
      "Epoch   0 Batch  310/1077 - Train Accuracy: 0.5055, Validation Accuracy: 0.5295, Loss: 0.7092\n",
      "Epoch   0 Batch  320/1077 - Train Accuracy: 0.4949, Validation Accuracy: 0.5206, Loss: 0.6690\n",
      "Epoch   0 Batch  330/1077 - Train Accuracy: 0.5090, Validation Accuracy: 0.5067, Loss: 0.6802\n",
      "Epoch   0 Batch  340/1077 - Train Accuracy: 0.4400, Validation Accuracy: 0.5036, Loss: 0.7044\n",
      "Epoch   0 Batch  350/1077 - Train Accuracy: 0.4707, Validation Accuracy: 0.5174, Loss: 0.6771\n",
      "Epoch   0 Batch  360/1077 - Train Accuracy: 0.4500, Validation Accuracy: 0.4826, Loss: 0.6475\n",
      "Epoch   0 Batch  370/1077 - Train Accuracy: 0.5130, Validation Accuracy: 0.5398, Loss: 0.6353\n",
      "Epoch   0 Batch  380/1077 - Train Accuracy: 0.5141, Validation Accuracy: 0.5220, Loss: 0.6535\n",
      "Epoch   0 Batch  390/1077 - Train Accuracy: 0.4703, Validation Accuracy: 0.5288, Loss: 0.6869\n",
      "Epoch   0 Batch  400/1077 - Train Accuracy: 0.4680, Validation Accuracy: 0.5263, Loss: 0.6635\n",
      "Epoch   0 Batch  410/1077 - Train Accuracy: 0.4404, Validation Accuracy: 0.4712, Loss: 0.7008\n",
      "Epoch   0 Batch  420/1077 - Train Accuracy: 0.5387, Validation Accuracy: 0.5692, Loss: 0.6301\n",
      "Epoch   0 Batch  430/1077 - Train Accuracy: 0.4891, Validation Accuracy: 0.5490, Loss: 0.6591\n",
      "Epoch   0 Batch  440/1077 - Train Accuracy: 0.5004, Validation Accuracy: 0.5572, Loss: 0.6835\n",
      "Epoch   0 Batch  450/1077 - Train Accuracy: 0.4742, Validation Accuracy: 0.4759, Loss: 0.6222\n",
      "Epoch   0 Batch  460/1077 - Train Accuracy: 0.5020, Validation Accuracy: 0.5547, Loss: 0.6563\n",
      "Epoch   0 Batch  470/1077 - Train Accuracy: 0.5016, Validation Accuracy: 0.5483, Loss: 0.6704\n",
      "Epoch   0 Batch  480/1077 - Train Accuracy: 0.5041, Validation Accuracy: 0.5121, Loss: 0.6401\n",
      "Epoch   0 Batch  490/1077 - Train Accuracy: 0.5043, Validation Accuracy: 0.5103, Loss: 0.6502\n",
      "Epoch   0 Batch  500/1077 - Train Accuracy: 0.5230, Validation Accuracy: 0.5540, Loss: 0.6377\n",
      "Epoch   0 Batch  510/1077 - Train Accuracy: 0.4914, Validation Accuracy: 0.5096, Loss: 0.6389\n",
      "Epoch   0 Batch  520/1077 - Train Accuracy: 0.5577, Validation Accuracy: 0.5582, Loss: 0.5863\n",
      "Epoch   0 Batch  530/1077 - Train Accuracy: 0.5262, Validation Accuracy: 0.5447, Loss: 0.6770\n",
      "Epoch   0 Batch  540/1077 - Train Accuracy: 0.5203, Validation Accuracy: 0.5487, Loss: 0.6081\n",
      "Epoch   0 Batch  550/1077 - Train Accuracy: 0.5125, Validation Accuracy: 0.5678, Loss: 0.6718\n",
      "Epoch   0 Batch  560/1077 - Train Accuracy: 0.5500, Validation Accuracy: 0.5700, Loss: 0.6080\n",
      "Epoch   0 Batch  570/1077 - Train Accuracy: 0.5473, Validation Accuracy: 0.5593, Loss: 0.6820\n",
      "Epoch   0 Batch  580/1077 - Train Accuracy: 0.5692, Validation Accuracy: 0.5426, Loss: 0.5749\n",
      "Epoch   0 Batch  590/1077 - Train Accuracy: 0.5066, Validation Accuracy: 0.5653, Loss: 0.6584\n",
      "Epoch   0 Batch  600/1077 - Train Accuracy: 0.5759, Validation Accuracy: 0.5643, Loss: 0.5811\n",
      "Epoch   0 Batch  610/1077 - Train Accuracy: 0.5234, Validation Accuracy: 0.5586, Loss: 0.6238\n",
      "Epoch   0 Batch  620/1077 - Train Accuracy: 0.5395, Validation Accuracy: 0.5657, Loss: 0.6073\n",
      "Epoch   0 Batch  630/1077 - Train Accuracy: 0.5461, Validation Accuracy: 0.5739, Loss: 0.6308\n",
      "Epoch   0 Batch  640/1077 - Train Accuracy: 0.5342, Validation Accuracy: 0.5657, Loss: 0.5939\n",
      "Epoch   0 Batch  650/1077 - Train Accuracy: 0.5023, Validation Accuracy: 0.5646, Loss: 0.6287\n",
      "Epoch   0 Batch  660/1077 - Train Accuracy: 0.5414, Validation Accuracy: 0.5518, Loss: 0.6214\n",
      "Epoch   0 Batch  670/1077 - Train Accuracy: 0.5870, Validation Accuracy: 0.5795, Loss: 0.5613\n",
      "Epoch   0 Batch  680/1077 - Train Accuracy: 0.4699, Validation Accuracy: 0.4627, Loss: 0.5930\n",
      "Epoch   0 Batch  690/1077 - Train Accuracy: 0.5648, Validation Accuracy: 0.5696, Loss: 0.6218\n",
      "Epoch   0 Batch  700/1077 - Train Accuracy: 0.4855, Validation Accuracy: 0.5266, Loss: 0.6154\n",
      "Epoch   0 Batch  710/1077 - Train Accuracy: 0.5312, Validation Accuracy: 0.5771, Loss: 0.6324\n",
      "Epoch   0 Batch  720/1077 - Train Accuracy: 0.5469, Validation Accuracy: 0.5653, Loss: 0.6473\n",
      "Epoch   0 Batch  730/1077 - Train Accuracy: 0.5090, Validation Accuracy: 0.5305, Loss: 0.6230\n",
      "Epoch   0 Batch  740/1077 - Train Accuracy: 0.5621, Validation Accuracy: 0.5650, Loss: 0.6050\n",
      "Epoch   0 Batch  750/1077 - Train Accuracy: 0.5453, Validation Accuracy: 0.5568, Loss: 0.6229\n",
      "Epoch   0 Batch  760/1077 - Train Accuracy: 0.5848, Validation Accuracy: 0.5614, Loss: 0.5825\n",
      "Epoch   0 Batch  770/1077 - Train Accuracy: 0.5774, Validation Accuracy: 0.5664, Loss: 0.5710\n",
      "Epoch   0 Batch  780/1077 - Train Accuracy: 0.5586, Validation Accuracy: 0.5618, Loss: 0.5978\n",
      "Epoch   0 Batch  790/1077 - Train Accuracy: 0.4961, Validation Accuracy: 0.5756, Loss: 0.6359\n",
      "Epoch   0 Batch  800/1077 - Train Accuracy: 0.5266, Validation Accuracy: 0.5678, Loss: 0.6088\n",
      "Epoch   0 Batch  810/1077 - Train Accuracy: 0.5986, Validation Accuracy: 0.5785, Loss: 0.5783\n",
      "Epoch   0 Batch  820/1077 - Train Accuracy: 0.5418, Validation Accuracy: 0.5636, Loss: 0.6516\n",
      "Epoch   0 Batch  830/1077 - Train Accuracy: 0.5418, Validation Accuracy: 0.5774, Loss: 0.6174\n",
      "Epoch   0 Batch  840/1077 - Train Accuracy: 0.5465, Validation Accuracy: 0.5636, Loss: 0.5873\n",
      "Epoch   0 Batch  850/1077 - Train Accuracy: 0.5298, Validation Accuracy: 0.5419, Loss: 0.6214\n",
      "Epoch   0 Batch  860/1077 - Train Accuracy: 0.5774, Validation Accuracy: 0.5838, Loss: 0.5875\n",
      "Epoch   0 Batch  870/1077 - Train Accuracy: 0.5395, Validation Accuracy: 0.5803, Loss: 0.6016\n",
      "Epoch   0 Batch  880/1077 - Train Accuracy: 0.6027, Validation Accuracy: 0.5792, Loss: 0.5898\n"
     ]
    },
    {
     "name": "stdout",
     "output_type": "stream",
     "text": [
      "Epoch   0 Batch  890/1077 - Train Accuracy: 0.6176, Validation Accuracy: 0.5870, Loss: 0.5529\n",
      "Epoch   0 Batch  900/1077 - Train Accuracy: 0.5766, Validation Accuracy: 0.5650, Loss: 0.5742\n",
      "Epoch   0 Batch  910/1077 - Train Accuracy: 0.5677, Validation Accuracy: 0.5856, Loss: 0.5719\n",
      "Epoch   0 Batch  920/1077 - Train Accuracy: 0.5555, Validation Accuracy: 0.5614, Loss: 0.5863\n",
      "Epoch   0 Batch  930/1077 - Train Accuracy: 0.5863, Validation Accuracy: 0.5891, Loss: 0.5661\n",
      "Epoch   0 Batch  940/1077 - Train Accuracy: 0.5609, Validation Accuracy: 0.5692, Loss: 0.5775\n",
      "Epoch   0 Batch  950/1077 - Train Accuracy: 0.5818, Validation Accuracy: 0.5891, Loss: 0.5356\n",
      "Epoch   0 Batch  960/1077 - Train Accuracy: 0.5934, Validation Accuracy: 0.5973, Loss: 0.5423\n",
      "Epoch   0 Batch  970/1077 - Train Accuracy: 0.5926, Validation Accuracy: 0.5806, Loss: 0.5545\n",
      "Epoch   0 Batch  980/1077 - Train Accuracy: 0.6133, Validation Accuracy: 0.5909, Loss: 0.5589\n",
      "Epoch   0 Batch  990/1077 - Train Accuracy: 0.5440, Validation Accuracy: 0.6115, Loss: 0.6052\n",
      "Epoch   0 Batch 1000/1077 - Train Accuracy: 0.6362, Validation Accuracy: 0.6122, Loss: 0.5016\n",
      "Epoch   0 Batch 1010/1077 - Train Accuracy: 0.5961, Validation Accuracy: 0.6076, Loss: 0.5606\n",
      "Epoch   0 Batch 1020/1077 - Train Accuracy: 0.5891, Validation Accuracy: 0.6097, Loss: 0.5394\n",
      "Epoch   0 Batch 1030/1077 - Train Accuracy: 0.5953, Validation Accuracy: 0.6119, Loss: 0.5423\n",
      "Epoch   0 Batch 1040/1077 - Train Accuracy: 0.6094, Validation Accuracy: 0.6097, Loss: 0.5528\n",
      "Epoch   0 Batch 1050/1077 - Train Accuracy: 0.5496, Validation Accuracy: 0.6108, Loss: 0.5604\n",
      "Epoch   0 Batch 1060/1077 - Train Accuracy: 0.6023, Validation Accuracy: 0.6101, Loss: 0.5232\n",
      "Epoch   0 Batch 1070/1077 - Train Accuracy: 0.5781, Validation Accuracy: 0.6023, Loss: 0.5460\n",
      "Epoch   1 Batch   10/1077 - Train Accuracy: 0.5999, Validation Accuracy: 0.6165, Loss: 0.5641\n",
      "Epoch   1 Batch   20/1077 - Train Accuracy: 0.5699, Validation Accuracy: 0.6151, Loss: 0.5541\n",
      "Epoch   1 Batch   30/1077 - Train Accuracy: 0.6082, Validation Accuracy: 0.5948, Loss: 0.5585\n",
      "Epoch   1 Batch   40/1077 - Train Accuracy: 0.6211, Validation Accuracy: 0.6218, Loss: 0.5444\n",
      "Epoch   1 Batch   50/1077 - Train Accuracy: 0.5695, Validation Accuracy: 0.5948, Loss: 0.5487\n",
      "Epoch   1 Batch   60/1077 - Train Accuracy: 0.6246, Validation Accuracy: 0.6126, Loss: 0.5253\n",
      "Epoch   1 Batch   70/1077 - Train Accuracy: 0.5970, Validation Accuracy: 0.6378, Loss: 0.5576\n",
      "Epoch   1 Batch   80/1077 - Train Accuracy: 0.5938, Validation Accuracy: 0.6183, Loss: 0.5412\n",
      "Epoch   1 Batch   90/1077 - Train Accuracy: 0.6086, Validation Accuracy: 0.6321, Loss: 0.5471\n",
      "Epoch   1 Batch  100/1077 - Train Accuracy: 0.6195, Validation Accuracy: 0.6133, Loss: 0.5217\n",
      "Epoch   1 Batch  110/1077 - Train Accuracy: 0.6492, Validation Accuracy: 0.6303, Loss: 0.4920\n",
      "Epoch   1 Batch  120/1077 - Train Accuracy: 0.6242, Validation Accuracy: 0.6037, Loss: 0.5268\n",
      "Epoch   1 Batch  130/1077 - Train Accuracy: 0.6075, Validation Accuracy: 0.6094, Loss: 0.5018\n",
      "Epoch   1 Batch  140/1077 - Train Accuracy: 0.6028, Validation Accuracy: 0.6168, Loss: 0.5373\n",
      "Epoch   1 Batch  150/1077 - Train Accuracy: 0.6641, Validation Accuracy: 0.6417, Loss: 0.4884\n",
      "Epoch   1 Batch  160/1077 - Train Accuracy: 0.6285, Validation Accuracy: 0.6367, Loss: 0.5302\n",
      "Epoch   1 Batch  170/1077 - Train Accuracy: 0.5750, Validation Accuracy: 0.6268, Loss: 0.5334\n",
      "Epoch   1 Batch  180/1077 - Train Accuracy: 0.6148, Validation Accuracy: 0.6239, Loss: 0.5300\n",
      "Epoch   1 Batch  190/1077 - Train Accuracy: 0.6613, Validation Accuracy: 0.6332, Loss: 0.4917\n",
      "Epoch   1 Batch  200/1077 - Train Accuracy: 0.5895, Validation Accuracy: 0.6282, Loss: 0.5243\n",
      "Epoch   1 Batch  210/1077 - Train Accuracy: 0.6607, Validation Accuracy: 0.6286, Loss: 0.4854\n",
      "Epoch   1 Batch  220/1077 - Train Accuracy: 0.6201, Validation Accuracy: 0.6303, Loss: 0.5208\n",
      "Epoch   1 Batch  230/1077 - Train Accuracy: 0.6436, Validation Accuracy: 0.6183, Loss: 0.4874\n",
      "Epoch   1 Batch  240/1077 - Train Accuracy: 0.6242, Validation Accuracy: 0.6211, Loss: 0.4984\n",
      "Epoch   1 Batch  250/1077 - Train Accuracy: 0.6058, Validation Accuracy: 0.5969, Loss: 0.4777\n",
      "Epoch   1 Batch  260/1077 - Train Accuracy: 0.6373, Validation Accuracy: 0.6232, Loss: 0.4710\n",
      "Epoch   1 Batch  270/1077 - Train Accuracy: 0.6215, Validation Accuracy: 0.6332, Loss: 0.5101\n",
      "Epoch   1 Batch  280/1077 - Train Accuracy: 0.6211, Validation Accuracy: 0.6264, Loss: 0.4979\n",
      "Epoch   1 Batch  290/1077 - Train Accuracy: 0.6137, Validation Accuracy: 0.6474, Loss: 0.5132\n",
      "Epoch   1 Batch  300/1077 - Train Accuracy: 0.6299, Validation Accuracy: 0.6065, Loss: 0.4936\n",
      "Epoch   1 Batch  310/1077 - Train Accuracy: 0.6246, Validation Accuracy: 0.6623, Loss: 0.5269\n",
      "Epoch   1 Batch  320/1077 - Train Accuracy: 0.6422, Validation Accuracy: 0.6388, Loss: 0.4857\n",
      "Epoch   1 Batch  330/1077 - Train Accuracy: 0.6711, Validation Accuracy: 0.6264, Loss: 0.4653\n",
      "Epoch   1 Batch  340/1077 - Train Accuracy: 0.6345, Validation Accuracy: 0.6342, Loss: 0.5072\n",
      "Epoch   1 Batch  350/1077 - Train Accuracy: 0.6211, Validation Accuracy: 0.6257, Loss: 0.4873\n",
      "Epoch   1 Batch  360/1077 - Train Accuracy: 0.6219, Validation Accuracy: 0.6268, Loss: 0.4782\n",
      "Epoch   1 Batch  370/1077 - Train Accuracy: 0.6417, Validation Accuracy: 0.6349, Loss: 0.4678\n",
      "Epoch   1 Batch  380/1077 - Train Accuracy: 0.6441, Validation Accuracy: 0.6452, Loss: 0.4664\n",
      "Epoch   1 Batch  390/1077 - Train Accuracy: 0.6109, Validation Accuracy: 0.6396, Loss: 0.5227\n",
      "Epoch   1 Batch  400/1077 - Train Accuracy: 0.6633, Validation Accuracy: 0.6360, Loss: 0.4654\n",
      "Epoch   1 Batch  410/1077 - Train Accuracy: 0.6332, Validation Accuracy: 0.6406, Loss: 0.5058\n",
      "Epoch   1 Batch  420/1077 - Train Accuracy: 0.6227, Validation Accuracy: 0.6325, Loss: 0.4487\n",
      "Epoch   1 Batch  430/1077 - Train Accuracy: 0.6492, Validation Accuracy: 0.6371, Loss: 0.4755\n",
      "Epoch   1 Batch  440/1077 - Train Accuracy: 0.6117, Validation Accuracy: 0.6222, Loss: 0.4898\n",
      "Epoch   1 Batch  450/1077 - Train Accuracy: 0.5844, Validation Accuracy: 0.6097, Loss: 0.4409\n",
      "Epoch   1 Batch  460/1077 - Train Accuracy: 0.6266, Validation Accuracy: 0.6513, Loss: 0.4723\n",
      "Epoch   1 Batch  470/1077 - Train Accuracy: 0.6024, Validation Accuracy: 0.6200, Loss: 0.4745\n",
      "Epoch   1 Batch  480/1077 - Train Accuracy: 0.6735, Validation Accuracy: 0.6374, Loss: 0.4504\n",
      "Epoch   1 Batch  490/1077 - Train Accuracy: 0.6215, Validation Accuracy: 0.6346, Loss: 0.4896\n",
      "Epoch   1 Batch  500/1077 - Train Accuracy: 0.6586, Validation Accuracy: 0.6516, Loss: 0.4644\n",
      "Epoch   1 Batch  510/1077 - Train Accuracy: 0.6426, Validation Accuracy: 0.6502, Loss: 0.4582\n",
      "Epoch   1 Batch  520/1077 - Train Accuracy: 0.6804, Validation Accuracy: 0.6481, Loss: 0.4128\n",
      "Epoch   1 Batch  530/1077 - Train Accuracy: 0.6234, Validation Accuracy: 0.6353, Loss: 0.4914\n",
      "Epoch   1 Batch  540/1077 - Train Accuracy: 0.6449, Validation Accuracy: 0.6460, Loss: 0.4169\n",
      "Epoch   1 Batch  550/1077 - Train Accuracy: 0.6246, Validation Accuracy: 0.6399, Loss: 0.4907\n",
      "Epoch   1 Batch  560/1077 - Train Accuracy: 0.6664, Validation Accuracy: 0.6346, Loss: 0.4416\n",
      "Epoch   1 Batch  570/1077 - Train Accuracy: 0.6493, Validation Accuracy: 0.6317, Loss: 0.4742\n",
      "Epoch   1 Batch  580/1077 - Train Accuracy: 0.6894, Validation Accuracy: 0.6257, Loss: 0.4048\n"
     ]
    },
    {
     "ename": "KeyboardInterrupt",
     "evalue": "",
     "output_type": "error",
     "traceback": [
      "\u001b[0;31m---------------------------------------------------------------------------\u001b[0m",
      "\u001b[0;31mKeyboardInterrupt\u001b[0m                         Traceback (most recent call last)",
      "\u001b[0;32m<ipython-input-14-2fda6f94fad5>\u001b[0m in \u001b[0;36m<module>\u001b[0;34m()\u001b[0m\n\u001b[1;32m     46\u001b[0m                  \u001b[0mtarget_sequence_length\u001b[0m\u001b[0;34m:\u001b[0m \u001b[0mtargets_lengths\u001b[0m\u001b[0;34m,\u001b[0m\u001b[0;34m\u001b[0m\u001b[0m\n\u001b[1;32m     47\u001b[0m                  \u001b[0msource_sequence_length\u001b[0m\u001b[0;34m:\u001b[0m \u001b[0msources_lengths\u001b[0m\u001b[0;34m,\u001b[0m\u001b[0;34m\u001b[0m\u001b[0m\n\u001b[0;32m---> 48\u001b[0;31m                  keep_prob: keep_probability})\n\u001b[0m\u001b[1;32m     49\u001b[0m \u001b[0;34m\u001b[0m\u001b[0m\n\u001b[1;32m     50\u001b[0m \u001b[0;34m\u001b[0m\u001b[0m\n",
      "\u001b[0;32m/usr/local/lib/python3.5/dist-packages/tensorflow/python/client/session.py\u001b[0m in \u001b[0;36mrun\u001b[0;34m(self, fetches, feed_dict, options, run_metadata)\u001b[0m\n\u001b[1;32m    776\u001b[0m     \u001b[0;32mtry\u001b[0m\u001b[0;34m:\u001b[0m\u001b[0;34m\u001b[0m\u001b[0m\n\u001b[1;32m    777\u001b[0m       result = self._run(None, fetches, feed_dict, options_ptr,\n\u001b[0;32m--> 778\u001b[0;31m                          run_metadata_ptr)\n\u001b[0m\u001b[1;32m    779\u001b[0m       \u001b[0;32mif\u001b[0m \u001b[0mrun_metadata\u001b[0m\u001b[0;34m:\u001b[0m\u001b[0;34m\u001b[0m\u001b[0m\n\u001b[1;32m    780\u001b[0m         \u001b[0mproto_data\u001b[0m \u001b[0;34m=\u001b[0m \u001b[0mtf_session\u001b[0m\u001b[0;34m.\u001b[0m\u001b[0mTF_GetBuffer\u001b[0m\u001b[0;34m(\u001b[0m\u001b[0mrun_metadata_ptr\u001b[0m\u001b[0;34m)\u001b[0m\u001b[0;34m\u001b[0m\u001b[0m\n",
      "\u001b[0;32m/usr/local/lib/python3.5/dist-packages/tensorflow/python/client/session.py\u001b[0m in \u001b[0;36m_run\u001b[0;34m(self, handle, fetches, feed_dict, options, run_metadata)\u001b[0m\n\u001b[1;32m    980\u001b[0m     \u001b[0;32mif\u001b[0m \u001b[0mfinal_fetches\u001b[0m \u001b[0;32mor\u001b[0m \u001b[0mfinal_targets\u001b[0m\u001b[0;34m:\u001b[0m\u001b[0;34m\u001b[0m\u001b[0m\n\u001b[1;32m    981\u001b[0m       results = self._do_run(handle, final_targets, final_fetches,\n\u001b[0;32m--> 982\u001b[0;31m                              feed_dict_string, options, run_metadata)\n\u001b[0m\u001b[1;32m    983\u001b[0m     \u001b[0;32melse\u001b[0m\u001b[0;34m:\u001b[0m\u001b[0;34m\u001b[0m\u001b[0m\n\u001b[1;32m    984\u001b[0m       \u001b[0mresults\u001b[0m \u001b[0;34m=\u001b[0m \u001b[0;34m[\u001b[0m\u001b[0;34m]\u001b[0m\u001b[0;34m\u001b[0m\u001b[0m\n",
      "\u001b[0;32m/usr/local/lib/python3.5/dist-packages/tensorflow/python/client/session.py\u001b[0m in \u001b[0;36m_do_run\u001b[0;34m(self, handle, target_list, fetch_list, feed_dict, options, run_metadata)\u001b[0m\n\u001b[1;32m   1030\u001b[0m     \u001b[0;32mif\u001b[0m \u001b[0mhandle\u001b[0m \u001b[0;32mis\u001b[0m \u001b[0;32mNone\u001b[0m\u001b[0;34m:\u001b[0m\u001b[0;34m\u001b[0m\u001b[0m\n\u001b[1;32m   1031\u001b[0m       return self._do_call(_run_fn, self._session, feed_dict, fetch_list,\n\u001b[0;32m-> 1032\u001b[0;31m                            target_list, options, run_metadata)\n\u001b[0m\u001b[1;32m   1033\u001b[0m     \u001b[0;32melse\u001b[0m\u001b[0;34m:\u001b[0m\u001b[0;34m\u001b[0m\u001b[0m\n\u001b[1;32m   1034\u001b[0m       return self._do_call(_prun_fn, self._session, handle, feed_dict,\n",
      "\u001b[0;32m/usr/local/lib/python3.5/dist-packages/tensorflow/python/client/session.py\u001b[0m in \u001b[0;36m_do_call\u001b[0;34m(self, fn, *args)\u001b[0m\n\u001b[1;32m   1037\u001b[0m   \u001b[0;32mdef\u001b[0m \u001b[0m_do_call\u001b[0m\u001b[0;34m(\u001b[0m\u001b[0mself\u001b[0m\u001b[0;34m,\u001b[0m \u001b[0mfn\u001b[0m\u001b[0;34m,\u001b[0m \u001b[0;34m*\u001b[0m\u001b[0margs\u001b[0m\u001b[0;34m)\u001b[0m\u001b[0;34m:\u001b[0m\u001b[0;34m\u001b[0m\u001b[0m\n\u001b[1;32m   1038\u001b[0m     \u001b[0;32mtry\u001b[0m\u001b[0;34m:\u001b[0m\u001b[0;34m\u001b[0m\u001b[0m\n\u001b[0;32m-> 1039\u001b[0;31m       \u001b[0;32mreturn\u001b[0m \u001b[0mfn\u001b[0m\u001b[0;34m(\u001b[0m\u001b[0;34m*\u001b[0m\u001b[0margs\u001b[0m\u001b[0;34m)\u001b[0m\u001b[0;34m\u001b[0m\u001b[0m\n\u001b[0m\u001b[1;32m   1040\u001b[0m     \u001b[0;32mexcept\u001b[0m \u001b[0merrors\u001b[0m\u001b[0;34m.\u001b[0m\u001b[0mOpError\u001b[0m \u001b[0;32mas\u001b[0m \u001b[0me\u001b[0m\u001b[0;34m:\u001b[0m\u001b[0;34m\u001b[0m\u001b[0m\n\u001b[1;32m   1041\u001b[0m       \u001b[0mmessage\u001b[0m \u001b[0;34m=\u001b[0m \u001b[0mcompat\u001b[0m\u001b[0;34m.\u001b[0m\u001b[0mas_text\u001b[0m\u001b[0;34m(\u001b[0m\u001b[0me\u001b[0m\u001b[0;34m.\u001b[0m\u001b[0mmessage\u001b[0m\u001b[0;34m)\u001b[0m\u001b[0;34m\u001b[0m\u001b[0m\n",
      "\u001b[0;32m/usr/local/lib/python3.5/dist-packages/tensorflow/python/client/session.py\u001b[0m in \u001b[0;36m_run_fn\u001b[0;34m(session, feed_dict, fetch_list, target_list, options, run_metadata)\u001b[0m\n\u001b[1;32m   1019\u001b[0m         return tf_session.TF_Run(session, options,\n\u001b[1;32m   1020\u001b[0m                                  \u001b[0mfeed_dict\u001b[0m\u001b[0;34m,\u001b[0m \u001b[0mfetch_list\u001b[0m\u001b[0;34m,\u001b[0m \u001b[0mtarget_list\u001b[0m\u001b[0;34m,\u001b[0m\u001b[0;34m\u001b[0m\u001b[0m\n\u001b[0;32m-> 1021\u001b[0;31m                                  status, run_metadata)\n\u001b[0m\u001b[1;32m   1022\u001b[0m \u001b[0;34m\u001b[0m\u001b[0m\n\u001b[1;32m   1023\u001b[0m     \u001b[0;32mdef\u001b[0m \u001b[0m_prun_fn\u001b[0m\u001b[0;34m(\u001b[0m\u001b[0msession\u001b[0m\u001b[0;34m,\u001b[0m \u001b[0mhandle\u001b[0m\u001b[0;34m,\u001b[0m \u001b[0mfeed_dict\u001b[0m\u001b[0;34m,\u001b[0m \u001b[0mfetch_list\u001b[0m\u001b[0;34m)\u001b[0m\u001b[0;34m:\u001b[0m\u001b[0;34m\u001b[0m\u001b[0m\n",
      "\u001b[0;31mKeyboardInterrupt\u001b[0m: "
     ]
    }
   ],
   "source": [
    "\"\"\"\n",
    "DON'T MODIFY ANYTHING IN THIS CELL\n",
    "\"\"\"\n",
    "def get_accuracy(target, logits):\n",
    "    \"\"\"\n",
    "    Calculate accuracy\n",
    "    \"\"\"\n",
    "    max_seq = max(target.shape[1], logits.shape[1])\n",
    "    if max_seq - target.shape[1]:\n",
    "        target = np.pad(\n",
    "            target,\n",
    "            [(0,0),(0,max_seq - target.shape[1])],\n",
    "            'constant')\n",
    "    if max_seq - logits.shape[1]:\n",
    "        logits = np.pad(\n",
    "            logits,\n",
    "            [(0,0),(0,max_seq - logits.shape[1])],\n",
    "            'constant')\n",
    "\n",
    "    return np.mean(np.equal(target, logits))\n",
    "\n",
    "# Split data to training and validation sets\n",
    "train_source = source_int_text[batch_size:]\n",
    "train_target = target_int_text[batch_size:]\n",
    "valid_source = source_int_text[:batch_size]\n",
    "valid_target = target_int_text[:batch_size]\n",
    "(valid_sources_batch, valid_targets_batch, valid_sources_lengths, valid_targets_lengths ) = next(get_batches(valid_source,\n",
    "                                                                                                             valid_target,\n",
    "                                                                                                             batch_size,\n",
    "                                                                                                             source_vocab_to_int['<PAD>'],\n",
    "                                                                                                             target_vocab_to_int['<PAD>']))                                                                                                  \n",
    "with tf.Session(graph=train_graph) as sess:\n",
    "    sess.run(tf.global_variables_initializer())\n",
    "\n",
    "    for epoch_i in range(epochs):\n",
    "        for batch_i, (source_batch, target_batch, sources_lengths, targets_lengths) in enumerate(\n",
    "                get_batches(train_source, train_target, batch_size,\n",
    "                            source_vocab_to_int['<PAD>'],\n",
    "                            target_vocab_to_int['<PAD>'])):\n",
    "\n",
    "            _, loss = sess.run(\n",
    "                [train_op, cost],\n",
    "                {input_data: source_batch,\n",
    "                 targets: target_batch,\n",
    "                 lr: learning_rate,\n",
    "                 target_sequence_length: targets_lengths,\n",
    "                 source_sequence_length: sources_lengths,\n",
    "                 keep_prob: keep_probability})\n",
    "\n",
    "\n",
    "            if batch_i % display_step == 0 and batch_i > 0:\n",
    "\n",
    "\n",
    "                batch_train_logits = sess.run(\n",
    "                    inference_logits,\n",
    "                    {input_data: source_batch,\n",
    "                     source_sequence_length: sources_lengths,\n",
    "                     target_sequence_length: targets_lengths,\n",
    "                     keep_prob: 1.0})\n",
    "\n",
    "\n",
    "                batch_valid_logits = sess.run(\n",
    "                    inference_logits,\n",
    "                    {input_data: valid_sources_batch,\n",
    "                     source_sequence_length: valid_sources_lengths,\n",
    "                     target_sequence_length: valid_targets_lengths,\n",
    "                     keep_prob: 1.0})\n",
    "\n",
    "                train_acc = get_accuracy(target_batch, batch_train_logits)\n",
    "\n",
    "                valid_acc = get_accuracy(valid_targets_batch, batch_valid_logits)\n",
    "\n",
    "                print('Epoch {:>3} Batch {:>4}/{} - Train Accuracy: {:>6.4f}, Validation Accuracy: {:>6.4f}, Loss: {:>6.4f}'\n",
    "                      .format(epoch_i, batch_i, len(source_int_text) // batch_size, train_acc, valid_acc, loss))\n",
    "\n",
    "    # Save Model\n",
    "    saver = tf.train.Saver()\n",
    "    saver.save(sess, save_path)\n",
    "    print('Model Trained and Saved')"
   ]
  },
  {
   "cell_type": "markdown",
   "metadata": {},
   "source": [
    "### Save Parameters\n",
    "Save the `batch_size` and `save_path` parameters for inference."
   ]
  },
  {
   "cell_type": "code",
   "execution_count": null,
   "metadata": {
    "collapsed": true
   },
   "outputs": [],
   "source": [
    "\"\"\"\n",
    "DON'T MODIFY ANYTHING IN THIS CELL\n",
    "\"\"\"\n",
    "# Save parameters for checkpoint\n",
    "helper.save_params(save_path)"
   ]
  },
  {
   "cell_type": "markdown",
   "metadata": {},
   "source": [
    "# Checkpoint"
   ]
  },
  {
   "cell_type": "code",
   "execution_count": null,
   "metadata": {
    "collapsed": true
   },
   "outputs": [],
   "source": [
    "\"\"\"\n",
    "DON'T MODIFY ANYTHING IN THIS CELL\n",
    "\"\"\"\n",
    "import tensorflow as tf\n",
    "import numpy as np\n",
    "import helper\n",
    "import problem_unittests as tests\n",
    "\n",
    "_, (source_vocab_to_int, target_vocab_to_int), (source_int_to_vocab, target_int_to_vocab) = helper.load_preprocess()\n",
    "load_path = helper.load_params()"
   ]
  },
  {
   "cell_type": "markdown",
   "metadata": {},
   "source": [
    "## Sentence to Sequence\n",
    "To feed a sentence into the model for translation, you first need to preprocess it.  Implement the function `sentence_to_seq()` to preprocess new sentences.\n",
    "\n",
    "- Convert the sentence to lowercase\n",
    "- Convert words into ids using `vocab_to_int`\n",
    " - Convert words not in the vocabulary, to the `<UNK>` word id."
   ]
  },
  {
   "cell_type": "code",
   "execution_count": null,
   "metadata": {
    "collapsed": true
   },
   "outputs": [],
   "source": [
    "def sentence_to_seq(sentence, vocab_to_int):\n",
    "    \"\"\"\n",
    "    Convert a sentence to a sequence of ids\n",
    "    :param sentence: String\n",
    "    :param vocab_to_int: Dictionary to go from the words to an id\n",
    "    :return: List of word ids\n",
    "    \"\"\"\n",
    "    # TODO: Implement Function\n",
    "    return None\n",
    "\n",
    "\n",
    "\"\"\"\n",
    "DON'T MODIFY ANYTHING IN THIS CELL THAT IS BELOW THIS LINE\n",
    "\"\"\"\n",
    "tests.test_sentence_to_seq(sentence_to_seq)"
   ]
  },
  {
   "cell_type": "markdown",
   "metadata": {},
   "source": [
    "## Translate\n",
    "This will translate `translate_sentence` from English to French."
   ]
  },
  {
   "cell_type": "code",
   "execution_count": null,
   "metadata": {
    "collapsed": true
   },
   "outputs": [],
   "source": [
    "translate_sentence = 'he saw a old yellow truck .'\n",
    "\n",
    "\n",
    "\"\"\"\n",
    "DON'T MODIFY ANYTHING IN THIS CELL\n",
    "\"\"\"\n",
    "translate_sentence = sentence_to_seq(translate_sentence, source_vocab_to_int)\n",
    "\n",
    "loaded_graph = tf.Graph()\n",
    "with tf.Session(graph=loaded_graph) as sess:\n",
    "    # Load saved model\n",
    "    loader = tf.train.import_meta_graph(load_path + '.meta')\n",
    "    loader.restore(sess, load_path)\n",
    "\n",
    "    input_data = loaded_graph.get_tensor_by_name('input:0')\n",
    "    logits = loaded_graph.get_tensor_by_name('predictions:0')\n",
    "    target_sequence_length = loaded_graph.get_tensor_by_name('target_sequence_length:0')\n",
    "    source_sequence_length = loaded_graph.get_tensor_by_name('source_sequence_length:0')\n",
    "    keep_prob = loaded_graph.get_tensor_by_name('keep_prob:0')\n",
    "\n",
    "    translate_logits = sess.run(logits, {input_data: [translate_sentence]*batch_size,\n",
    "                                         target_sequence_length: [len(translate_sentence)*2]*batch_size,\n",
    "                                         source_sequence_length: [len(translate_sentence)]*batch_size,\n",
    "                                         keep_prob: 1.0})[0]\n",
    "\n",
    "print('Input')\n",
    "print('  Word Ids:      {}'.format([i for i in translate_sentence]))\n",
    "print('  English Words: {}'.format([source_int_to_vocab[i] for i in translate_sentence]))\n",
    "\n",
    "print('\\nPrediction')\n",
    "print('  Word Ids:      {}'.format([i for i in translate_logits]))\n",
    "print('  French Words: {}'.format(\" \".join([target_int_to_vocab[i] for i in translate_logits])))\n"
   ]
  },
  {
   "cell_type": "markdown",
   "metadata": {},
   "source": [
    "## Imperfect Translation\n",
    "You might notice that some sentences translate better than others.  Since the dataset you're using only has a vocabulary of 227 English words of the thousands that you use, you're only going to see good results using these words.  For this project, you don't need a perfect translation. However, if you want to create a better translation model, you'll need better data.\n",
    "\n",
    "You can train on the [WMT10 French-English corpus](http://www.statmt.org/wmt10/training-giga-fren.tar).  This dataset has more vocabulary and richer in topics discussed.  However, this will take you days to train, so make sure you've a GPU and the neural network is performing well on dataset we provided.  Just make sure you play with the WMT10 corpus after you've submitted this project.\n",
    "## Submitting This Project\n",
    "When submitting this project, make sure to run all the cells before saving the notebook. Save the notebook file as \"dlnd_language_translation.ipynb\" and save it as a HTML file under \"File\" -> \"Download as\". Include the \"helper.py\" and \"problem_unittests.py\" files in your submission."
   ]
  }
 ],
 "metadata": {
  "anaconda-cloud": {},
  "kernelspec": {
   "display_name": "Python 3",
   "language": "python",
   "name": "python3"
  },
  "language_info": {
   "codemirror_mode": {
    "name": "ipython",
    "version": 3
   },
   "file_extension": ".py",
   "mimetype": "text/x-python",
   "name": "python",
   "nbconvert_exporter": "python",
   "pygments_lexer": "ipython3",
   "version": "3.5.2"
  }
 },
 "nbformat": 4,
 "nbformat_minor": 1
}
